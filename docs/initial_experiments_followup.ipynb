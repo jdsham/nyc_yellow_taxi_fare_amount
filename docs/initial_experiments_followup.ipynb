{
 "cells": [
  {
   "cell_type": "markdown",
   "metadata": {},
   "source": [
    "# Initial Experiments Follow-Up\n",
    "\n",
    "Now that the initial experiments have been performed, a short list of models was constructed.\n",
    "They are:\n",
    "* MLP\n",
    "* LightGBM\n",
    "* Linear Regression\n",
    "* Linear SVR\n",
    "\n",
    "Now, Optuna will be used to tune the hyperparameters for all the models except Linear Regression.\n",
    "Afterwards, a stacking and voting ensemble will be trained to compare against individual models.\n",
    "The best model will be selected following the model comparison."
   ]
  },
  {
   "cell_type": "markdown",
   "metadata": {},
   "source": [
    "## Experiment Parameters"
   ]
  },
  {
   "cell_type": "markdown",
   "metadata": {},
   "source": [
    "### LGBM\n",
    "\n",
    "For LGBM the following parameters and ranges were specified to be included in the hyperparameter space.\n",
    "* `num_leaves` from 31 to 200, incriments of 1.\n",
    "* `min_data_in_leaf` from 5 to 50, incriments of 5.\n",
    "* `num_iterations` from 100 to 500, incriments of 50.\n",
    "* `learning_rate` from 0.001 to 0.1, incriments of 0.001."
   ]
  },
  {
   "cell_type": "markdown",
   "metadata": {},
   "source": [
    "### MLP - SKlearn\n",
    "The following parameters and ranges were searched to optimize MLP from SKlearn:\n",
    "* `hidden_layer_sizes` from 10 to 100 in incriments of 5.\n",
    "* `alpha` from 00001 to 0.001 in incriments of 0.00001.\n",
    "* `learning_rate_init` from 0.001 to 0.1 in incriments of 0.001.\n"
   ]
  },
  {
   "cell_type": "markdown",
   "metadata": {},
   "source": [
    "### Linear SVR\n",
    "With Linear SVR the following parameters and ranges were searched for hyperparameter optimization:\n",
    "* `epsilon` from 0 to 10 in incriments of 1.\n",
    "* `C` from 0 to 5 in incriments of 0.1."
   ]
  },
  {
   "cell_type": "markdown",
   "metadata": {},
   "source": [
    "### Ensembles\n",
    "\n",
    "The stacking and voting ensembles will be tested with the hyperparameter optimized models.\n",
    "For the stacking ensemble, a LightGBM model with default parameters will be used as the blender layer.\n",
    "Cross-validation will be skipped for this step, since CV would have been performed on the tuned models."
   ]
  },
  {
   "cell_type": "markdown",
   "metadata": {},
   "source": [
    "## Results - Hyperparameter Optimization"
   ]
  },
  {
   "cell_type": "code",
   "execution_count": 1,
   "metadata": {},
   "outputs": [],
   "source": [
    "import mlflow\n",
    "from IPython.display import display\n",
    "import pandas as pd\n",
    "pd.set_option('display.max_rows', None)\n",
    "from PIL import Image"
   ]
  },
  {
   "cell_type": "code",
   "execution_count": 2,
   "metadata": {},
   "outputs": [],
   "source": [
    "mlflow.set_tracking_uri(\"http://localhost:5000\")\n",
    "client = mlflow.tracking.MlflowClient()"
   ]
  },
  {
   "cell_type": "code",
   "execution_count": 14,
   "metadata": {},
   "outputs": [],
   "source": [
    "run_results = mlflow.search_runs(experiment_names=[\"fare_amount_initial_optuna\"])"
   ]
  },
  {
   "cell_type": "code",
   "execution_count": 4,
   "metadata": {},
   "outputs": [],
   "source": [
    "all_results = run_results[[\"params.model\", \"params.features\", \"metrics.cv_r2\", \"metrics.cv_rmse\", \"metrics.test_r2\", \"metrics.test_rmse\", 'run_id']].sort_values(by=\"metrics.test_rmse\")"
   ]
  },
  {
   "cell_type": "code",
   "execution_count": 5,
   "metadata": {},
   "outputs": [
    {
     "data": {
      "text/html": [
       "<div>\n",
       "<style scoped>\n",
       "    .dataframe tbody tr th:only-of-type {\n",
       "        vertical-align: middle;\n",
       "    }\n",
       "\n",
       "    .dataframe tbody tr th {\n",
       "        vertical-align: top;\n",
       "    }\n",
       "\n",
       "    .dataframe thead th {\n",
       "        text-align: right;\n",
       "    }\n",
       "</style>\n",
       "<table border=\"1\" class=\"dataframe\">\n",
       "  <thead>\n",
       "    <tr style=\"text-align: right;\">\n",
       "      <th></th>\n",
       "      <th>params.model</th>\n",
       "      <th>params.features</th>\n",
       "      <th>metrics.cv_r2</th>\n",
       "      <th>metrics.cv_rmse</th>\n",
       "      <th>metrics.test_r2</th>\n",
       "      <th>metrics.test_rmse</th>\n",
       "      <th>run_id</th>\n",
       "    </tr>\n",
       "  </thead>\n",
       "  <tbody>\n",
       "    <tr>\n",
       "      <th>2</th>\n",
       "      <td>lgbm</td>\n",
       "      <td>['trip_distance', 'trip_duration_min', 'r', 't...</td>\n",
       "      <td>0.995730</td>\n",
       "      <td>0.739473</td>\n",
       "      <td>0.995748</td>\n",
       "      <td>0.738115</td>\n",
       "      <td>e5b95b24eb0b4cc28c3afaec6214f038</td>\n",
       "    </tr>\n",
       "    <tr>\n",
       "      <th>1</th>\n",
       "      <td>mlp_sklearn</td>\n",
       "      <td>['trip_distance', 'trip_duration_min', 'r', 't...</td>\n",
       "      <td>0.995581</td>\n",
       "      <td>NaN</td>\n",
       "      <td>0.995592</td>\n",
       "      <td>0.751460</td>\n",
       "      <td>e37d19a4748a485cbc2f91cf508017f1</td>\n",
       "    </tr>\n",
       "    <tr>\n",
       "      <th>0</th>\n",
       "      <td>linear_svr</td>\n",
       "      <td>['trip_distance', 'trip_duration_min', 'r', 't...</td>\n",
       "      <td>0.995054</td>\n",
       "      <td>0.795852</td>\n",
       "      <td>0.995070</td>\n",
       "      <td>0.794778</td>\n",
       "      <td>35d578cf576946a1a13dc25902f5d548</td>\n",
       "    </tr>\n",
       "  </tbody>\n",
       "</table>\n",
       "</div>"
      ],
      "text/plain": [
       "  params.model                                    params.features  \\\n",
       "2         lgbm  ['trip_distance', 'trip_duration_min', 'r', 't...   \n",
       "1  mlp_sklearn  ['trip_distance', 'trip_duration_min', 'r', 't...   \n",
       "0   linear_svr  ['trip_distance', 'trip_duration_min', 'r', 't...   \n",
       "\n",
       "   metrics.cv_r2  metrics.cv_rmse  metrics.test_r2  metrics.test_rmse  \\\n",
       "2       0.995730         0.739473         0.995748           0.738115   \n",
       "1       0.995581              NaN         0.995592           0.751460   \n",
       "0       0.995054         0.795852         0.995070           0.794778   \n",
       "\n",
       "                             run_id  \n",
       "2  e5b95b24eb0b4cc28c3afaec6214f038  \n",
       "1  e37d19a4748a485cbc2f91cf508017f1  \n",
       "0  35d578cf576946a1a13dc25902f5d548  "
      ]
     },
     "metadata": {},
     "output_type": "display_data"
    }
   ],
   "source": [
    "display(all_results)"
   ]
  },
  {
   "cell_type": "markdown",
   "metadata": {},
   "source": [
    "### LGBM Best Parameters"
   ]
  },
  {
   "cell_type": "code",
   "execution_count": 19,
   "metadata": {},
   "outputs": [],
   "source": [
    "lgbm_results = run_results[[\"params.model\", \"params.num_leaves\", \"params.num_iterations\", \"params.min_data_in_leaf\", \"params.learning_rate\"]].loc[run_results[\"params.model\"] == 'lgbm']"
   ]
  },
  {
   "cell_type": "code",
   "execution_count": 20,
   "metadata": {},
   "outputs": [
    {
     "data": {
      "text/html": [
       "<div>\n",
       "<style scoped>\n",
       "    .dataframe tbody tr th:only-of-type {\n",
       "        vertical-align: middle;\n",
       "    }\n",
       "\n",
       "    .dataframe tbody tr th {\n",
       "        vertical-align: top;\n",
       "    }\n",
       "\n",
       "    .dataframe thead th {\n",
       "        text-align: right;\n",
       "    }\n",
       "</style>\n",
       "<table border=\"1\" class=\"dataframe\">\n",
       "  <thead>\n",
       "    <tr style=\"text-align: right;\">\n",
       "      <th></th>\n",
       "      <th>params.model</th>\n",
       "      <th>params.num_leaves</th>\n",
       "      <th>params.num_iterations</th>\n",
       "      <th>params.min_data_in_leaf</th>\n",
       "      <th>params.learning_rate</th>\n",
       "    </tr>\n",
       "  </thead>\n",
       "  <tbody>\n",
       "    <tr>\n",
       "      <th>2</th>\n",
       "      <td>lgbm</td>\n",
       "      <td>163</td>\n",
       "      <td>450</td>\n",
       "      <td>50</td>\n",
       "      <td>0.068</td>\n",
       "    </tr>\n",
       "  </tbody>\n",
       "</table>\n",
       "</div>"
      ],
      "text/plain": [
       "  params.model params.num_leaves params.num_iterations  \\\n",
       "2         lgbm               163                   450   \n",
       "\n",
       "  params.min_data_in_leaf params.learning_rate  \n",
       "2                      50                0.068  "
      ]
     },
     "metadata": {},
     "output_type": "display_data"
    }
   ],
   "source": [
    "display(lgbm_results)"
   ]
  },
  {
   "cell_type": "markdown",
   "metadata": {},
   "source": [
    "### MLP Best Parameters"
   ]
  },
  {
   "cell_type": "code",
   "execution_count": 21,
   "metadata": {},
   "outputs": [],
   "source": [
    "mlp_results = run_results[[\"params.model\", \"params.alpha\", \"params.hidden_layer_sizes\", \"params.learning_rate_init\"]].loc[run_results[\"params.model\"] == 'mlp_sklearn']"
   ]
  },
  {
   "cell_type": "code",
   "execution_count": 22,
   "metadata": {},
   "outputs": [
    {
     "data": {
      "text/html": [
       "<div>\n",
       "<style scoped>\n",
       "    .dataframe tbody tr th:only-of-type {\n",
       "        vertical-align: middle;\n",
       "    }\n",
       "\n",
       "    .dataframe tbody tr th {\n",
       "        vertical-align: top;\n",
       "    }\n",
       "\n",
       "    .dataframe thead th {\n",
       "        text-align: right;\n",
       "    }\n",
       "</style>\n",
       "<table border=\"1\" class=\"dataframe\">\n",
       "  <thead>\n",
       "    <tr style=\"text-align: right;\">\n",
       "      <th></th>\n",
       "      <th>params.model</th>\n",
       "      <th>params.alpha</th>\n",
       "      <th>params.hidden_layer_sizes</th>\n",
       "      <th>params.learning_rate_init</th>\n",
       "    </tr>\n",
       "  </thead>\n",
       "  <tbody>\n",
       "    <tr>\n",
       "      <th>1</th>\n",
       "      <td>mlp_sklearn</td>\n",
       "      <td>0.0007300000000000001</td>\n",
       "      <td>80</td>\n",
       "      <td>0.016</td>\n",
       "    </tr>\n",
       "  </tbody>\n",
       "</table>\n",
       "</div>"
      ],
      "text/plain": [
       "  params.model           params.alpha params.hidden_layer_sizes  \\\n",
       "1  mlp_sklearn  0.0007300000000000001                        80   \n",
       "\n",
       "  params.learning_rate_init  \n",
       "1                     0.016  "
      ]
     },
     "metadata": {},
     "output_type": "display_data"
    }
   ],
   "source": [
    "display(mlp_results)"
   ]
  },
  {
   "cell_type": "markdown",
   "metadata": {},
   "source": [
    "### Linear SVR Best Parameters"
   ]
  },
  {
   "cell_type": "code",
   "execution_count": 24,
   "metadata": {},
   "outputs": [],
   "source": [
    "linsvr_results = run_results[[\"params.model\", \"params.epsilon\", \"params.C\"]].loc[run_results[\"params.model\"] == 'linear_svr']"
   ]
  },
  {
   "cell_type": "code",
   "execution_count": 25,
   "metadata": {},
   "outputs": [
    {
     "data": {
      "text/html": [
       "<div>\n",
       "<style scoped>\n",
       "    .dataframe tbody tr th:only-of-type {\n",
       "        vertical-align: middle;\n",
       "    }\n",
       "\n",
       "    .dataframe tbody tr th {\n",
       "        vertical-align: top;\n",
       "    }\n",
       "\n",
       "    .dataframe thead th {\n",
       "        text-align: right;\n",
       "    }\n",
       "</style>\n",
       "<table border=\"1\" class=\"dataframe\">\n",
       "  <thead>\n",
       "    <tr style=\"text-align: right;\">\n",
       "      <th></th>\n",
       "      <th>params.model</th>\n",
       "      <th>params.epsilon</th>\n",
       "      <th>params.C</th>\n",
       "    </tr>\n",
       "  </thead>\n",
       "  <tbody>\n",
       "    <tr>\n",
       "      <th>0</th>\n",
       "      <td>linear_svr</td>\n",
       "      <td>0.0</td>\n",
       "      <td>2.0</td>\n",
       "    </tr>\n",
       "  </tbody>\n",
       "</table>\n",
       "</div>"
      ],
      "text/plain": [
       "  params.model params.epsilon params.C\n",
       "0   linear_svr            0.0      2.0"
      ]
     },
     "metadata": {},
     "output_type": "display_data"
    }
   ],
   "source": [
    "display(linsvr_results)"
   ]
  },
  {
   "cell_type": "markdown",
   "metadata": {},
   "source": [
    "## Results - Ensembles"
   ]
  },
  {
   "cell_type": "code",
   "execution_count": 6,
   "metadata": {},
   "outputs": [],
   "source": [
    "run_results = mlflow.search_runs(experiment_names=[\"fare_amount_initial_ensemble\"])"
   ]
  },
  {
   "cell_type": "code",
   "execution_count": 9,
   "metadata": {},
   "outputs": [],
   "source": [
    "all_results = run_results[[\"params.ensemble_model\", \"params.features\", \"metrics.test_r2\", \"metrics.test_rmse\", 'run_id']].sort_values(by=\"metrics.test_rmse\")"
   ]
  },
  {
   "cell_type": "code",
   "execution_count": 10,
   "metadata": {},
   "outputs": [
    {
     "data": {
      "text/html": [
       "<div>\n",
       "<style scoped>\n",
       "    .dataframe tbody tr th:only-of-type {\n",
       "        vertical-align: middle;\n",
       "    }\n",
       "\n",
       "    .dataframe tbody tr th {\n",
       "        vertical-align: top;\n",
       "    }\n",
       "\n",
       "    .dataframe thead th {\n",
       "        text-align: right;\n",
       "    }\n",
       "</style>\n",
       "<table border=\"1\" class=\"dataframe\">\n",
       "  <thead>\n",
       "    <tr style=\"text-align: right;\">\n",
       "      <th></th>\n",
       "      <th>params.ensemble_model</th>\n",
       "      <th>params.features</th>\n",
       "      <th>metrics.test_r2</th>\n",
       "      <th>metrics.test_rmse</th>\n",
       "      <th>run_id</th>\n",
       "    </tr>\n",
       "  </thead>\n",
       "  <tbody>\n",
       "    <tr>\n",
       "      <th>1</th>\n",
       "      <td>stacking</td>\n",
       "      <td>['trip_distance', 'trip_duration_min', 'r', 't...</td>\n",
       "      <td>0.995627</td>\n",
       "      <td>0.748527</td>\n",
       "      <td>a815088ec4154ed6abf5494a2d05661c</td>\n",
       "    </tr>\n",
       "    <tr>\n",
       "      <th>0</th>\n",
       "      <td>voting</td>\n",
       "      <td>['trip_distance', 'trip_duration_min', 'r', 't...</td>\n",
       "      <td>0.995563</td>\n",
       "      <td>0.753919</td>\n",
       "      <td>8200546024e644548661a870f062e65a</td>\n",
       "    </tr>\n",
       "  </tbody>\n",
       "</table>\n",
       "</div>"
      ],
      "text/plain": [
       "  params.ensemble_model                                    params.features  \\\n",
       "1              stacking  ['trip_distance', 'trip_duration_min', 'r', 't...   \n",
       "0                voting  ['trip_distance', 'trip_duration_min', 'r', 't...   \n",
       "\n",
       "   metrics.test_r2  metrics.test_rmse                            run_id  \n",
       "1         0.995627           0.748527  a815088ec4154ed6abf5494a2d05661c  \n",
       "0         0.995563           0.753919  8200546024e644548661a870f062e65a  "
      ]
     },
     "metadata": {},
     "output_type": "display_data"
    }
   ],
   "source": [
    "display(all_results)"
   ]
  },
  {
   "cell_type": "markdown",
   "metadata": {},
   "source": [
    "## Discussion"
   ]
  },
  {
   "cell_type": "markdown",
   "metadata": {},
   "source": [
    "Given how well most models performed with default parameters, it is no surprise to see minute improvements if any in the model performances with optimized hyperparameters.\n",
    "The only model that showed improvement was LGBM by about 2 cents in RMSE.\n",
    "\n",
    "The errors in model predictions seem to come from struggles with common data points in the testing process.\n",
    "An evaluation of these data points could be useful to understand if the models genuinely struggle or if these are outliers that still persist in the dataset.\n",
    "\n",
    "Regarding ensemble methods, neither stacking or voting outperforms the tuned LGBM model.\n",
    "Therefore, the LGBM model will be selected for fare amount predictions.\n",
    "This model will be considered the baseline model and model performance.\n",
    "\n",
    "Some areas to consider improvements are re-examining the data for outliers or including additional information to make sure undesired data is not included in the dataset.\n",
    "Furthermore, additional features like the average speed (was the overall average speed greater than 12MPH) or time related features could also be explored to see if model performance improves.\n"
   ]
  }
 ],
 "metadata": {
  "kernelspec": {
   "display_name": "main",
   "language": "python",
   "name": "python3"
  },
  "language_info": {
   "codemirror_mode": {
    "name": "ipython",
    "version": 3
   },
   "file_extension": ".py",
   "mimetype": "text/x-python",
   "name": "python",
   "nbconvert_exporter": "python",
   "pygments_lexer": "ipython3",
   "version": "3.12.3"
  }
 },
 "nbformat": 4,
 "nbformat_minor": 2
}
