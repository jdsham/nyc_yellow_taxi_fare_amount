{
  "cells": [
    {
      "cell_type": "markdown",
      "metadata": {
        "nteract": {
          "transient": {
            "deleting": false
          }
        }
      },
      "source": [
        "# Bronze Data Exploration"
      ]
    },
    {
      "cell_type": "markdown",
      "metadata": {
        "nteract": {
          "transient": {
            "deleting": false
          }
        }
      },
      "source": [
        "Note: This notebook uses Azure Synapse Analytics with PySpark"
      ]
    },
    {
      "cell_type": "markdown",
      "metadata": {
        "nteract": {
          "transient": {
            "deleting": false
          }
        }
      },
      "source": [
        "The purpose of doing some data exploration on the raw (bronze) data is to help understand how to filter the data when going from the Bronze layer to the Silver layer.\n",
        "Some simple data transformations may be required to help assess how to filter out data.\n",
        "Note that all the data will be unioned together into one DataFrame.\n",
        "This is to help evaluate filtering rules.\n",
        "A seperate notebook / script will be developed to process individual files such that it could be used in an incremental ETL process.\n",
        "The data dictionary for the yellow taxi cab data can be found [here](https://www.nyc.gov/assets/tlc/downloads/pdf/data_dictionary_trip_records_yellow.pdf)"
      ]
    },
    {
      "cell_type": "code",
      "execution_count": 1,
      "metadata": {
        "microsoft": {}
      },
      "outputs": [
        {
          "data": {
            "application/vnd.livy.statement-meta+json": {
              "execution_finish_time": "2025-03-10T18:48:38.5692255Z",
              "execution_start_time": "2025-03-10T18:48:38.0643314Z",
              "livy_statement_state": "available",
              "normalized_state": "finished",
              "parent_msg_id": "59ad3677-d087-460b-8f24-4755ac3e2dca",
              "queued_time": "2025-03-10T18:47:39.3512992Z",
              "session_id": "38",
              "session_start_time": "2025-03-10T18:47:39.3524582Z",
              "spark_jobs": null,
              "spark_pool": "ExecSmall",
              "state": "finished",
              "statement_id": 2,
              "statement_ids": [
                2
              ]
            },
            "text/plain": [
              "StatementMeta(ExecSmall, 38, 2, Finished, Available, Finished)"
            ]
          },
          "metadata": {},
          "output_type": "display_data"
        }
      ],
      "source": [
        "import pyspark.sql.functions as F\n",
        "from pyspark.ml import Transformer, Pipeline"
      ]
    },
    {
      "cell_type": "markdown",
      "metadata": {
        "nteract": {
          "transient": {
            "deleting": false
          }
        }
      },
      "source": [
        "## Load the Data"
      ]
    },
    {
      "cell_type": "markdown",
      "metadata": {
        "nteract": {
          "transient": {
            "deleting": false
          }
        }
      },
      "source": [
        "The raw bronze data was contactenated into one dataframe called union.\n",
        "Please review Concat Bronze notebook to see how this was done."
      ]
    },
    {
      "cell_type": "code",
      "execution_count": null,
      "metadata": {
        "microsoft": {
          "language": "python"
        }
      },
      "outputs": [
        {
          "data": {
            "application/vnd.livy.statement-meta+json": {
              "execution_finish_time": "2025-03-10T18:48:45.98854Z",
              "execution_start_time": "2025-03-10T18:48:38.6472686Z",
              "livy_statement_state": "available",
              "normalized_state": "finished",
              "parent_msg_id": "b3576724-c144-4423-950f-c6a7e6bc9e33",
              "queued_time": "2025-03-10T18:47:40.9953475Z",
              "session_id": "38",
              "session_start_time": null,
              "spark_jobs": null,
              "spark_pool": "ExecSmall",
              "state": "finished",
              "statement_id": 3,
              "statement_ids": [
                3
              ]
            },
            "text/plain": [
              "StatementMeta(ExecSmall, 38, 3, Finished, Available, Finished)"
            ]
          },
          "metadata": {},
          "output_type": "display_data"
        }
      ],
      "source": [
        "%%pyspark\n",
        "input_file_path = '<ADD YOUR FILE PATH HERE>'\n",
        "union_df = spark.read.load(input_file_path, format='parquet')"
      ]
    },
    {
      "cell_type": "markdown",
      "metadata": {
        "nteract": {
          "transient": {
            "deleting": false
          }
        }
      },
      "source": [
        "## Simple Data Transformations"
      ]
    },
    {
      "cell_type": "code",
      "execution_count": 3,
      "metadata": {},
      "outputs": [
        {
          "data": {
            "application/vnd.livy.statement-meta+json": {
              "execution_finish_time": "2025-03-10T18:48:46.3277057Z",
              "execution_start_time": "2025-03-10T18:48:46.0613158Z",
              "livy_statement_state": "available",
              "normalized_state": "finished",
              "parent_msg_id": "0fa8ef2b-e6f7-4551-87c1-764947055ffb",
              "queued_time": "2025-03-10T18:47:42.664616Z",
              "session_id": "38",
              "session_start_time": null,
              "spark_jobs": null,
              "spark_pool": "ExecSmall",
              "state": "finished",
              "statement_id": 4,
              "statement_ids": [
                4
              ]
            },
            "text/plain": [
              "StatementMeta(ExecSmall, 38, 4, Finished, Available, Finished)"
            ]
          },
          "metadata": {},
          "output_type": "display_data"
        }
      ],
      "source": [
        "class ExtractDurationMin(Transformer):\n",
        "  \"\"\"\n",
        "  Extracts trip duration in minutes\n",
        "  returns Numeric\n",
        "  \"\"\"\n",
        "  def __init__(self, pu_col=\"tpep_pickup_datetime\", do_col=\"tpep_dropoff_datetime\", output_col=\"trip_duration_min\"):\n",
        "    self.pu_col = pu_col\n",
        "    self.do_col = do_col\n",
        "    self.output_col = output_col\n",
        "\n",
        "  def _transform(self, df):\n",
        "    return df.withColumn(self.output_col, (F.to_timestamp(F.col(self.do_col)).cast(\"long\") - F.to_timestamp(F.col(self.pu_col)).cast(\"long\"))/60.0)"
      ]
    },
    {
      "cell_type": "code",
      "execution_count": 4,
      "metadata": {},
      "outputs": [
        {
          "data": {
            "application/vnd.livy.statement-meta+json": {
              "execution_finish_time": "2025-03-10T18:48:46.9328151Z",
              "execution_start_time": "2025-03-10T18:48:46.406246Z",
              "livy_statement_state": "available",
              "normalized_state": "finished",
              "parent_msg_id": "79befbb4-594f-49e5-8e99-f892e8e51186",
              "queued_time": "2025-03-10T18:47:46.6199336Z",
              "session_id": "38",
              "session_start_time": null,
              "spark_jobs": null,
              "spark_pool": "ExecSmall",
              "state": "finished",
              "statement_id": 5,
              "statement_ids": [
                5
              ]
            },
            "text/plain": [
              "StatementMeta(ExecSmall, 38, 5, Finished, Available, Finished)"
            ]
          },
          "metadata": {},
          "output_type": "display_data"
        }
      ],
      "source": [
        "xform_pipe = Pipeline(stages=[ExtractDurationMin()])\n",
        "xform_pipe_model = xform_pipe.fit(union_df)\n",
        "union_df = xform_pipe_model.transform(union_df)\n"
      ]
    },
    {
      "cell_type": "code",
      "execution_count": 10,
      "metadata": {},
      "outputs": [
        {
          "data": {
            "application/vnd.livy.statement-meta+json": {
              "execution_finish_time": "2025-03-10T18:55:02.7175987Z",
              "execution_start_time": "2025-03-10T18:52:33.9345038Z",
              "livy_statement_state": "available",
              "normalized_state": "finished",
              "parent_msg_id": "7fba07ac-10d6-4f3c-ace6-931983f8299b",
              "queued_time": "2025-03-10T18:52:33.8605022Z",
              "session_id": "38",
              "session_start_time": null,
              "spark_jobs": null,
              "spark_pool": "ExecSmall",
              "state": "finished",
              "statement_id": 11,
              "statement_ids": [
                11
              ]
            },
            "text/plain": [
              "StatementMeta(ExecSmall, 38, 11, Finished, Available, Finished)"
            ]
          },
          "metadata": {},
          "output_type": "display_data"
        },
        {
          "data": {
            "text/plain": [
              "131119556"
            ]
          },
          "execution_count": 23,
          "metadata": {},
          "output_type": "execute_result"
        }
      ],
      "source": [
        "union_df.count()"
      ]
    },
    {
      "cell_type": "markdown",
      "metadata": {
        "nteract": {
          "transient": {
            "deleting": false
          }
        }
      },
      "source": [
        "## Columns To Drop"
      ]
    },
    {
      "cell_type": "markdown",
      "metadata": {
        "nteract": {
          "transient": {
            "deleting": false
          }
        }
      },
      "source": [
        "Some columns can be automatically dropped, as they do not contain valuable information.\n",
        "Reducing the number of columns can help with efficiency.\n",
        "They are:\n",
        "\n",
        "1. Store_and_fwd_flag -- this is an audit based field and contains no useful information"
      ]
    },
    {
      "cell_type": "code",
      "execution_count": 5,
      "metadata": {},
      "outputs": [
        {
          "data": {
            "application/vnd.livy.statement-meta+json": {
              "execution_finish_time": "2025-03-10T18:48:47.1927896Z",
              "execution_start_time": "2025-03-10T18:48:47.0152373Z",
              "livy_statement_state": "available",
              "normalized_state": "finished",
              "parent_msg_id": "f08ed85d-1852-4164-9a25-7f168a3ed3ff",
              "queued_time": "2025-03-10T18:47:49.3926281Z",
              "session_id": "38",
              "session_start_time": null,
              "spark_jobs": null,
              "spark_pool": "ExecSmall",
              "state": "finished",
              "statement_id": 6,
              "statement_ids": [
                6
              ]
            },
            "text/plain": [
              "StatementMeta(ExecSmall, 38, 6, Finished, Available, Finished)"
            ]
          },
          "metadata": {},
          "output_type": "display_data"
        }
      ],
      "source": [
        "union_df = union_df.drop(\"store_and_fwd_flag\")"
      ]
    },
    {
      "cell_type": "markdown",
      "metadata": {
        "nteract": {
          "transient": {
            "deleting": false
          }
        }
      },
      "source": [
        "## Basic Filtering"
      ]
    },
    {
      "cell_type": "markdown",
      "metadata": {
        "nteract": {
          "transient": {
            "deleting": false
          }
        }
      },
      "source": [
        "There are a few basic filtering methods we can use to help weed out bad data.\n",
        "Bad data can skew statistical summaries and analysis which inform filtering rules.\n",
        "This gives a better picture for data exploration and a better sense of how to filter numerical data."
      ]
    },
    {
      "cell_type": "code",
      "execution_count": 6,
      "metadata": {},
      "outputs": [
        {
          "data": {
            "application/vnd.livy.statement-meta+json": {
              "execution_finish_time": "2025-03-10T18:48:48.1609251Z",
              "execution_start_time": "2025-03-10T18:48:47.2869354Z",
              "livy_statement_state": "available",
              "normalized_state": "finished",
              "parent_msg_id": "07674379-701c-4b0e-87f1-d3626ca45ef7",
              "queued_time": "2025-03-10T18:47:51.5914531Z",
              "session_id": "38",
              "session_start_time": null,
              "spark_jobs": null,
              "spark_pool": "ExecSmall",
              "state": "finished",
              "statement_id": 7,
              "statement_ids": [
                7
              ]
            },
            "text/plain": [
              "StatementMeta(ExecSmall, 38, 7, Finished, Available, Finished)"
            ]
          },
          "metadata": {},
          "output_type": "display_data"
        }
      ],
      "source": [
        "# Payment Type = 1, 2\n",
        "# Other Payment types are invalid.\n",
        "union_df = union_df.where(F.col(\"payment_type\").isin([1,2]))"
      ]
    },
    {
      "cell_type": "code",
      "execution_count": 7,
      "metadata": {},
      "outputs": [
        {
          "data": {
            "application/vnd.livy.statement-meta+json": {
              "execution_finish_time": "2025-03-10T18:48:48.3786012Z",
              "execution_start_time": "2025-03-10T18:48:48.236301Z",
              "livy_statement_state": "available",
              "normalized_state": "finished",
              "parent_msg_id": "3bfda25d-196f-4b82-971f-51938fbbcb29",
              "queued_time": "2025-03-10T18:47:52.1996142Z",
              "session_id": "38",
              "session_start_time": null,
              "spark_jobs": null,
              "spark_pool": "ExecSmall",
              "state": "finished",
              "statement_id": 8,
              "statement_ids": [
                8
              ]
            },
            "text/plain": [
              "StatementMeta(ExecSmall, 38, 8, Finished, Available, Finished)"
            ]
          },
          "metadata": {},
          "output_type": "display_data"
        }
      ],
      "source": [
        "# Remove negative values from fields that cannot be negative or must be greater than zero\n",
        "union_df = union_df.where(\n",
        "    (F.col(\"fare_amount\") > 0)\n",
        "    & (F.col(\"passenger_count\") > 0)\n",
        "    & (F.col(\"extra\") >= 0)\n",
        "    & (F.col(\"mta_tax\") >= 0)\n",
        "    & (F.col(\"improvement_surcharge\") >= 0)\n",
        "    & (F.col(\"tip_amount\") >= 0)\n",
        "    & (F.col(\"tolls_amount\") >= 0)\n",
        "    & (F.col(\"total_amount\") > 0)\n",
        "    & (F.col(\"congestion_surcharge\") >= 0)\n",
        "    & (F.col(\"airport_fee\") >= 0)\n",
        "    & (F.col(\"trip_duration_sec\") > 0)\n",
        "    & (F.col(\"trip_distance\") > 0)    \n",
        "    )"
      ]
    },
    {
      "cell_type": "markdown",
      "metadata": {
        "nteract": {
          "transient": {
            "deleting": false
          }
        }
      },
      "source": [
        "## Caching The Data"
      ]
    },
    {
      "cell_type": "markdown",
      "metadata": {
        "nteract": {
          "transient": {
            "deleting": false
          }
        }
      },
      "source": [
        "Important step: cache the data!\n",
        "Since we will be scanning the data multiple times, it's best to cache this data for efficiency!"
      ]
    },
    {
      "cell_type": "code",
      "execution_count": 8,
      "metadata": {},
      "outputs": [
        {
          "data": {
            "application/vnd.livy.statement-meta+json": {
              "execution_finish_time": "2025-03-10T18:48:49.5047654Z",
              "execution_start_time": "2025-03-10T18:48:48.4496173Z",
              "livy_statement_state": "available",
              "normalized_state": "finished",
              "parent_msg_id": "554125ab-e49b-4fe1-bf3a-880d392d0cdc",
              "queued_time": "2025-03-10T18:47:54.6846175Z",
              "session_id": "38",
              "session_start_time": null,
              "spark_jobs": null,
              "spark_pool": "ExecSmall",
              "state": "finished",
              "statement_id": 9,
              "statement_ids": [
                9
              ]
            },
            "text/plain": [
              "StatementMeta(ExecSmall, 38, 9, Finished, Available, Finished)"
            ]
          },
          "metadata": {},
          "output_type": "display_data"
        },
        {
          "data": {
            "text/plain": [
              "DataFrame[VendorID: bigint, tpep_pickup_datetime: timestamp_ntz, tpep_dropoff_datetime: timestamp_ntz, passenger_count: double, trip_distance: double, RatecodeID: double, PULocationID: bigint, DOLocationID: bigint, payment_type: bigint, fare_amount: double, extra: double, mta_tax: double, tip_amount: double, tolls_amount: double, improvement_surcharge: double, total_amount: double, congestion_surcharge: double, airport_fee: double, pu_year_month: string, trip_duration_min: double, trip_duration_sec: bigint, pu_date: date]"
            ]
          },
          "execution_count": 19,
          "metadata": {},
          "output_type": "execute_result"
        }
      ],
      "source": [
        "union_df.cache()"
      ]
    },
    {
      "cell_type": "code",
      "execution_count": 11,
      "metadata": {},
      "outputs": [
        {
          "data": {
            "application/vnd.livy.statement-meta+json": {
              "execution_finish_time": "2025-03-10T18:55:17.8726693Z",
              "execution_start_time": "2025-03-10T18:55:02.8065388Z",
              "livy_statement_state": "available",
              "normalized_state": "finished",
              "parent_msg_id": "83b664fc-6d72-4145-95e4-a0686d7d6223",
              "queued_time": "2025-03-10T18:52:43.2276566Z",
              "session_id": "38",
              "session_start_time": null,
              "spark_jobs": null,
              "spark_pool": "ExecSmall",
              "state": "finished",
              "statement_id": 12,
              "statement_ids": [
                12
              ]
            },
            "text/plain": [
              "StatementMeta(ExecSmall, 38, 12, Finished, Available, Finished)"
            ]
          },
          "metadata": {},
          "output_type": "display_data"
        },
        {
          "data": {
            "text/plain": [
              "131119556"
            ]
          },
          "execution_count": 25,
          "metadata": {},
          "output_type": "execute_result"
        }
      ],
      "source": [
        "union_df.count()"
      ]
    },
    {
      "cell_type": "markdown",
      "metadata": {
        "nteract": {
          "transient": {
            "deleting": false
          }
        }
      },
      "source": [
        "## Data Exploration"
      ]
    },
    {
      "cell_type": "code",
      "execution_count": 12,
      "metadata": {},
      "outputs": [
        {
          "data": {
            "application/vnd.livy.statement-meta+json": {
              "execution_finish_time": "2025-03-10T18:55:18.0930967Z",
              "execution_start_time": "2025-03-10T18:55:17.9454145Z",
              "livy_statement_state": "available",
              "normalized_state": "finished",
              "parent_msg_id": "5cb24dba-5286-43c9-8d51-d058ef114c7e",
              "queued_time": "2025-03-10T18:52:46.2757031Z",
              "session_id": "38",
              "session_start_time": null,
              "spark_jobs": null,
              "spark_pool": "ExecSmall",
              "state": "finished",
              "statement_id": 13,
              "statement_ids": [
                13
              ]
            },
            "text/plain": [
              "StatementMeta(ExecSmall, 38, 13, Finished, Available, Finished)"
            ]
          },
          "metadata": {},
          "output_type": "display_data"
        },
        {
          "data": {
            "text/plain": [
              "['VendorID',\n",
              " 'tpep_pickup_datetime',\n",
              " 'tpep_dropoff_datetime',\n",
              " 'passenger_count',\n",
              " 'trip_distance',\n",
              " 'RatecodeID',\n",
              " 'PULocationID',\n",
              " 'DOLocationID',\n",
              " 'payment_type',\n",
              " 'fare_amount',\n",
              " 'extra',\n",
              " 'mta_tax',\n",
              " 'tip_amount',\n",
              " 'tolls_amount',\n",
              " 'improvement_surcharge',\n",
              " 'total_amount',\n",
              " 'congestion_surcharge',\n",
              " 'airport_fee',\n",
              " 'pu_year_month',\n",
              " 'trip_duration_min',\n",
              " 'trip_duration_sec',\n",
              " 'pu_date']"
            ]
          },
          "execution_count": 27,
          "metadata": {},
          "output_type": "execute_result"
        }
      ],
      "source": [
        "union_df.columns"
      ]
    },
    {
      "cell_type": "markdown",
      "metadata": {
        "nteract": {
          "transient": {
            "deleting": false
          }
        }
      },
      "source": [
        "### Numerical Data\n",
        "Let's look at some of the columns of numerical data first"
      ]
    },
    {
      "cell_type": "code",
      "execution_count": 13,
      "metadata": {},
      "outputs": [
        {
          "data": {
            "application/vnd.livy.statement-meta+json": {
              "execution_finish_time": "2025-03-10T18:55:18.3098928Z",
              "execution_start_time": "2025-03-10T18:55:18.1681387Z",
              "livy_statement_state": "available",
              "normalized_state": "finished",
              "parent_msg_id": "199d31ab-d8df-4d9f-acdf-88aab51310fe",
              "queued_time": "2025-03-10T18:52:47.7246442Z",
              "session_id": "38",
              "session_start_time": null,
              "spark_jobs": null,
              "spark_pool": "ExecSmall",
              "state": "finished",
              "statement_id": 14,
              "statement_ids": [
                14
              ]
            },
            "text/plain": [
              "StatementMeta(ExecSmall, 38, 14, Finished, Available, Finished)"
            ]
          },
          "metadata": {},
          "output_type": "display_data"
        }
      ],
      "source": [
        "num_col = [\"passenger_count\", \"trip_distance\", \"fare_amount\", \"extra\", \"mta_tax\", \"improvement_surcharge\", \"tip_amount\", \"tolls_amount\", \"total_amount\", \"congestion_surcharge\", \"airport_fee\", \"trip_duration_sec\", \"trip_duration_min\"]"
      ]
    },
    {
      "cell_type": "code",
      "execution_count": 14,
      "metadata": {},
      "outputs": [
        {
          "data": {
            "application/vnd.livy.statement-meta+json": {
              "execution_finish_time": "2025-03-10T18:58:00.1698257Z",
              "execution_start_time": "2025-03-10T18:55:18.3858899Z",
              "livy_statement_state": "available",
              "normalized_state": "finished",
              "parent_msg_id": "3bad1c01-e99d-4f05-aa66-032f06187502",
              "queued_time": "2025-03-10T18:52:49.0882713Z",
              "session_id": "38",
              "session_start_time": null,
              "spark_jobs": null,
              "spark_pool": "ExecSmall",
              "state": "finished",
              "statement_id": 15,
              "statement_ids": [
                15
              ]
            },
            "text/plain": [
              "StatementMeta(ExecSmall, 38, 15, Finished, Available, Finished)"
            ]
          },
          "metadata": {},
          "output_type": "display_data"
        },
        {
          "name": "stdout",
          "output_type": "stream",
          "text": [
            "+-------+------------------+-----------------+------------------+------------------+-------------------+---------------------+------------------+------------------+-----------------+--------------------+-------------------+------------------+--------------------+\n",
            "|summary|   passenger_count|    trip_distance|       fare_amount|             extra|            mta_tax|improvement_surcharge|        tip_amount|      tolls_amount|     total_amount|congestion_surcharge|        airport_fee| trip_duration_sec|   trip_duration_min|\n",
            "+-------+------------------+-----------------+------------------+------------------+-------------------+---------------------+------------------+------------------+-----------------+--------------------+-------------------+------------------+--------------------+\n",
            "|  count|         131119556|        131119556|         131119556|         131119556|          131119556|            131119556|         131119556|         131119556|        131119556|           131119556|          131119556|         131119556|           131119556|\n",
            "|   mean| 1.405804462913221|3.513005360008727|17.108289892924237| 1.325247258997735|0.49673019027001836|   0.6789299538241228|  3.18496536298694|0.5487630732210143|25.17669192877404|   2.325305064486338|0.12066761002454889|1645.4865644221675|   27.42477607370287|\n",
            "| stddev|0.9138696360305432|65.61155900945609|42.998628338350265|1.6075129357701177|0.04122149043493807|   0.3497528724444946|3.6728603600345524|  2.07736725704731|44.81310054113135|  0.6373523002663269|0.41525402200940364| 609516.1401922553|  10158.602336537593|\n",
            "|    min|               1.0|             0.01|              0.01|               0.0|                0.0|                  0.0|               0.0|               0.0|             0.01|                 0.0|                0.0|                 1|0.016666666666666666|\n",
            "|    25%|               1.0|              1.1|               8.0|               0.0|                0.5|                  0.3|               1.0|               0.0|             13.8|                 2.5|                0.0|               451|   7.516666666666667|\n",
            "|    50%|               1.0|              1.8|              11.5|               1.0|                0.5|                  1.0|               2.5|               0.0|             18.4|                 2.5|                0.0|               738|                12.3|\n",
            "|    75%|               1.0|              3.4|              19.1|               2.5|                0.5|                  1.0|              3.98|               0.0|            26.88|                 2.5|                0.0|              1199|  19.983333333333334|\n",
            "|    max|             112.0|         184340.8|         386983.63|             88.81|              35.84|                  1.0|           1400.16|           1702.88|        386987.63|                2.75|               1.75|         619323311|1.0322055183333334E7|\n",
            "+-------+------------------+-----------------+------------------+------------------+-------------------+---------------------+------------------+------------------+-----------------+--------------------+-------------------+------------------+--------------------+\n",
            "\n"
          ]
        }
      ],
      "source": [
        "union_df.select(num_col).summary().show()"
      ]
    },
    {
      "cell_type": "markdown",
      "metadata": {
        "nteract": {
          "transient": {
            "deleting": false
          }
        }
      },
      "source": [
        "#### Passenger Count"
      ]
    },
    {
      "cell_type": "code",
      "execution_count": 15,
      "metadata": {},
      "outputs": [
        {
          "data": {
            "application/vnd.livy.statement-meta+json": {
              "execution_finish_time": "2025-03-10T18:58:14.8459655Z",
              "execution_start_time": "2025-03-10T18:58:00.2489067Z",
              "livy_statement_state": "available",
              "normalized_state": "finished",
              "parent_msg_id": "d3ad8346-060a-4107-af10-19f9eb9dcbb7",
              "queued_time": "2025-03-10T18:52:54.2354405Z",
              "session_id": "38",
              "session_start_time": null,
              "spark_jobs": null,
              "spark_pool": "ExecSmall",
              "state": "finished",
              "statement_id": 16,
              "statement_ids": [
                16
              ]
            },
            "text/plain": [
              "StatementMeta(ExecSmall, 38, 16, Finished, Available, Finished)"
            ]
          },
          "metadata": {},
          "output_type": "display_data"
        },
        {
          "name": "stdout",
          "output_type": "stream",
          "text": [
            "+---------------+--------+\n",
            "|passenger_count|   count|\n",
            "+---------------+--------+\n",
            "|            1.0|99852540|\n",
            "|            2.0|20155266|\n",
            "|            3.0| 5083065|\n",
            "|            4.0| 2587089|\n",
            "|            5.0| 2082866|\n",
            "|            6.0| 1358214|\n",
            "|            7.0|     176|\n",
            "|            8.0|     262|\n",
            "|            9.0|      76|\n",
            "|           96.0|       1|\n",
            "|          112.0|       1|\n",
            "+---------------+--------+\n",
            "\n"
          ]
        }
      ],
      "source": [
        "union_df.groupBy(\"passenger_count\").count().sort(F.asc(\"passenger_count\")).show()"
      ]
    },
    {
      "cell_type": "markdown",
      "metadata": {
        "nteract": {
          "transient": {
            "deleting": false
          }
        }
      },
      "source": [
        "Passenger count should be between 1 and 6."
      ]
    },
    {
      "cell_type": "markdown",
      "metadata": {
        "nteract": {
          "transient": {
            "deleting": false
          }
        }
      },
      "source": [
        "#### Trip Distance"
      ]
    },
    {
      "cell_type": "markdown",
      "metadata": {
        "nteract": {
          "transient": {
            "deleting": false
          }
        }
      },
      "source": [
        "The 75th percentile of trip distance is 3.4 miles.\n",
        "We can see that the maximum is almost 400k miles, which is totally bogus.\n",
        "Let's find some additional percentile information"
      ]
    },
    {
      "cell_type": "code",
      "execution_count": 16,
      "metadata": {},
      "outputs": [
        {
          "data": {
            "application/vnd.livy.statement-meta+json": {
              "execution_finish_time": "2025-03-10T18:59:09.4755484Z",
              "execution_start_time": "2025-03-10T18:58:14.9249646Z",
              "livy_statement_state": "available",
              "normalized_state": "finished",
              "parent_msg_id": "46e25b12-2e63-428f-9cb1-efe4be46fcc8",
              "queued_time": "2025-03-10T18:52:58.2194397Z",
              "session_id": "38",
              "session_start_time": null,
              "spark_jobs": null,
              "spark_pool": "ExecSmall",
              "state": "finished",
              "statement_id": 17,
              "statement_ids": [
                17
              ]
            },
            "text/plain": [
              "StatementMeta(ExecSmall, 38, 17, Finished, Available, Finished)"
            ]
          },
          "metadata": {},
          "output_type": "display_data"
        },
        {
          "name": "stdout",
          "output_type": "stream",
          "text": [
            "+-------+-------+---------+-------+\n",
            "|pcnt_90|pcnt_95|pcnt_97.5|pcnt_99|\n",
            "+-------+-------+---------+-------+\n",
            "|   8.87|  14.76|    18.13|  20.16|\n",
            "+-------+-------+---------+-------+\n",
            "\n"
          ]
        }
      ],
      "source": [
        "col = \"trip_distance\"\n",
        "union_df.select(\n",
        "    F.percentile_approx(col, 0.90).alias(\"pcnt_90\"),\n",
        "    F.percentile_approx(col, 0.95).alias(\"pcnt_95\"),\n",
        "    F.percentile_approx(col, 0.975).alias(\"pcnt_97.5\"),\n",
        "    F.percentile_approx(col, 0.99).alias(\"pcnt_99\")\n",
        ").show()"
      ]
    },
    {
      "cell_type": "markdown",
      "metadata": {
        "nteract": {
          "transient": {
            "deleting": false
          }
        }
      },
      "source": [
        "Let's also examine the upper limit cutoff for outliers using the IQR method."
      ]
    },
    {
      "cell_type": "code",
      "execution_count": 20,
      "metadata": {},
      "outputs": [
        {
          "data": {
            "application/vnd.livy.statement-meta+json": {
              "execution_finish_time": "2025-03-10T19:01:09.3418215Z",
              "execution_start_time": "2025-03-10T19:01:09.1860297Z",
              "livy_statement_state": "available",
              "normalized_state": "finished",
              "parent_msg_id": "b4fe0870-bb8e-49f4-a483-a1ef9c2b1f66",
              "queued_time": "2025-03-10T18:59:47.5470676Z",
              "session_id": "38",
              "session_start_time": null,
              "spark_jobs": null,
              "spark_pool": "ExecSmall",
              "state": "finished",
              "statement_id": 21,
              "statement_ids": [
                21
              ]
            },
            "text/plain": [
              "StatementMeta(ExecSmall, 38, 21, Finished, Available, Finished)"
            ]
          },
          "metadata": {},
          "output_type": "display_data"
        },
        {
          "name": "stdout",
          "output_type": "stream",
          "text": [
            "6.85\n"
          ]
        }
      ],
      "source": [
        "iqr = 3.4 - 1.1 # Q3 and Q1 values\n",
        "upper_limit = iqr * 1.5 + 3.4\n",
        "print(upper_limit)"
      ]
    },
    {
      "cell_type": "markdown",
      "metadata": {
        "nteract": {
          "transient": {
            "deleting": false
          }
        }
      },
      "source": [
        "Interesting to note that the Upper limit cuttoff for IQR is 6.895 miles.\n",
        "While longer trips appear less frequent, we can filter some data, do some rounding, and get some discrete counts to get a good feel for trip counts.\n",
        "To be cautious, let's set a cutoff of 50 miles for trip distances since the 99th percentile was 20.16 miles"
      ]
    },
    {
      "cell_type": "code",
      "execution_count": 18,
      "metadata": {},
      "outputs": [
        {
          "data": {
            "application/vnd.livy.statement-meta+json": {
              "execution_finish_time": "2025-03-10T18:59:36.6599124Z",
              "execution_start_time": "2025-03-10T18:59:09.7799023Z",
              "livy_statement_state": "available",
              "normalized_state": "finished",
              "parent_msg_id": "a14f93a0-3670-4c3b-a96c-0df0a930dcd4",
              "queued_time": "2025-03-10T18:53:00.6242391Z",
              "session_id": "38",
              "session_start_time": null,
              "spark_jobs": null,
              "spark_pool": "ExecSmall",
              "state": "finished",
              "statement_id": 19,
              "statement_ids": [
                19
              ]
            },
            "text/plain": [
              "StatementMeta(ExecSmall, 38, 19, Finished, Available, Finished)"
            ]
          },
          "metadata": {},
          "output_type": "display_data"
        },
        {
          "name": "stdout",
          "output_type": "stream",
          "text": [
            "+-----------------+--------+--------------------+\n",
            "|trip_distance_rnd|   count|          pcnt_total|\n",
            "+-----------------+--------+--------------------+\n",
            "|              0.0| 4527314|   3.452813705378929|\n",
            "|              1.0|47614672|  36.313936267447396|\n",
            "|              2.0|32288034|  24.624880517441653|\n",
            "|              3.0|14904499|   11.36710606311083|\n",
            "|              4.0| 7349345|    5.60507160350665|\n",
            "|              5.0| 4166014|  3.1772636569940795|\n",
            "|              6.0| 2693454|    2.05419701085626|\n",
            "|              7.0| 1977458|  1.5081335388292498|\n",
            "|              8.0| 1738915|  1.3262056805622495|\n",
            "|              9.0| 2026530|  1.5455589248639616|\n",
            "|             10.0| 1838442|  1.4021112152027115|\n",
            "|             11.0| 1410326|  1.0756030931038234|\n",
            "|             12.0|  953343|  0.7270791856555707|\n",
            "|             13.0|  535110|  0.4081084594276692|\n",
            "|             14.0|  420667| 0.32082704733991013|\n",
            "|             15.0|  445122|  0.3394779646752312|\n",
            "|             16.0|  620828| 0.47348238427530975|\n",
            "|             17.0| 1257394|  0.9589675547711586|\n",
            "|             18.0| 1602536|  1.2221944985841777|\n",
            "|             19.0| 1013564|  0.7730074985915907|\n",
            "|             20.0|  596672| 0.45505950309959864|\n",
            "|             21.0|  411721| 0.31400426645740015|\n",
            "|             22.0|  213139|  0.1625531739903085|\n",
            "|             23.0|   98660| 0.07524430604386732|\n",
            "|             24.0|   58028|0.044255793544633416|\n",
            "|             25.0|   46935| 0.03579557575683066|\n",
            "|             26.0|   51077| 0.03895452483075827|\n",
            "|             27.0|   49224|  0.0375413107713696|\n",
            "|             28.0|   43172| 0.03292567586180661|\n",
            "|             29.0|   30376|0.023166643425790733|\n",
            "|             30.0|   17925|0.013670729635478631|\n",
            "|             31.0|   12586|0.009598873260370101|\n",
            "|             32.0|   10805|0.008240570918345697|\n",
            "|             33.0|    8748|0.006671773659758275|\n",
            "|             34.0|    7601|0.005796999495635876|\n",
            "|             35.0|    7151|0.005453801262109216|\n",
            "|             36.0|    8119|0.006192058795562121|\n",
            "|             37.0|    8320|0.006345354006537362|\n",
            "|             38.0|    5963|0.004547757925598833|\n",
            "|             39.0|    4508|0.003438083637195965|\n",
            "|             40.0|    3768|0.002873713208729...|\n",
            "|             41.0|    3106|0.002368830474075...|\n",
            "|             42.0|    2725| 0.00207825596968922|\n",
            "|             43.0|    2514|0.001917334131302275|\n",
            "|             44.0|    2357|0.001797596080938...|\n",
            "|             45.0|    2237|0.001706076551998...|\n",
            "|             46.0|    2058|0.001569559921328...|\n",
            "|             47.0|    1817|0.001385758200706...|\n",
            "|             48.0|    1723|0.001314067903036...|\n",
            "|             49.0|    1506|0.001148570088202...|\n",
            "|             50.0|     767| 5.84962322477663E-4|\n",
            "+-----------------+--------+--------------------+\n",
            "\n"
          ]
        }
      ],
      "source": [
        "union_df.select(F.round(F.col(\"trip_distance\")).alias(\"trip_distance_rnd\")).where(union_df.trip_distance < 50).groupBy(\"trip_distance_rnd\").count().sort(F.asc(F.col(\"trip_distance_rnd\"))).withColumn(\"pcnt_total\", 100*F.col(\"count\")/union_df.count()).show(51)"
      ]
    },
    {
      "cell_type": "markdown",
      "metadata": {
        "nteract": {
          "transient": {
            "deleting": false
          }
        }
      },
      "source": [
        "A good cutoff would be 30 miles.\n",
        "Any trips above 30 miles would be less than 0.01% of total rides.\n",
        "Remember, filtering of data from Bronze layer to Silver layer is not meant to be project specific filtering, but a general filtering.\n",
        "30 miles is a good upper limit."
      ]
    },
    {
      "cell_type": "markdown",
      "metadata": {
        "nteract": {
          "transient": {
            "deleting": false
          }
        }
      },
      "source": [
        "#### Fare Amount"
      ]
    },
    {
      "cell_type": "code",
      "execution_count": 21,
      "metadata": {},
      "outputs": [
        {
          "data": {
            "application/vnd.livy.statement-meta+json": {
              "execution_finish_time": "2025-03-10T19:03:52.5545384Z",
              "execution_start_time": "2025-03-10T19:02:06.4822771Z",
              "livy_statement_state": "available",
              "normalized_state": "finished",
              "parent_msg_id": "c9327408-13a5-4160-a3a7-db1e8f582142",
              "queued_time": "2025-03-10T19:02:04.6513579Z",
              "session_id": "38",
              "session_start_time": null,
              "spark_jobs": null,
              "spark_pool": "ExecSmall",
              "state": "finished",
              "statement_id": 22,
              "statement_ids": [
                22
              ]
            },
            "text/plain": [
              "StatementMeta(ExecSmall, 38, 22, Finished, Available, Finished)"
            ]
          },
          "metadata": {},
          "output_type": "display_data"
        },
        {
          "name": "stdout",
          "output_type": "stream",
          "text": [
            "+-------+-------+-------+-------+-------+---------+-------+--------+\n",
            "|pcnt_25|pcnt_50|pcnt_75|pcnt_90|pcnt_95|pcnt_97.5|pcnt_99|pcnt_999|\n",
            "+-------+-------+-------+-------+-------+---------+-------+--------+\n",
            "|    8.0|   11.5|   19.1|   35.5|   52.0|     70.0|   70.0|   127.5|\n",
            "+-------+-------+-------+-------+-------+---------+-------+--------+\n",
            "\n"
          ]
        }
      ],
      "source": [
        "col = \"fare_amount\"\n",
        "union_df.select(\n",
        "    F.percentile_approx(col, 0.25).alias(\"pcnt_25\"),\n",
        "    F.percentile_approx(col, 0.50).alias(\"pcnt_50\"),\n",
        "    F.percentile_approx(col, 0.75).alias(\"pcnt_75\"),\n",
        "    F.percentile_approx(col, 0.90).alias(\"pcnt_90\"),\n",
        "    F.percentile_approx(col, 0.95).alias(\"pcnt_95\"),\n",
        "    F.percentile_approx(col, 0.975).alias(\"pcnt_97.5\"),\n",
        "    F.percentile_approx(col, 0.99).alias(\"pcnt_99\"),\n",
        "    F.percentile_approx(col, 0.999).alias(\"pcnt_999\")\n",
        ").show()"
      ]
    },
    {
      "cell_type": "markdown",
      "metadata": {
        "nteract": {
          "transient": {
            "deleting": false
          }
        }
      },
      "source": [
        "The 99th percentile is $70 and the 99.9th percentile is 127.50.\n",
        "Let's use a cutoff of $70 for fare amount."
      ]
    },
    {
      "cell_type": "markdown",
      "metadata": {
        "nteract": {
          "transient": {
            "deleting": false
          }
        }
      },
      "source": [
        "#### Extra"
      ]
    },
    {
      "cell_type": "code",
      "execution_count": 26,
      "metadata": {},
      "outputs": [
        {
          "data": {
            "application/vnd.livy.statement-meta+json": {
              "execution_finish_time": "2025-03-10T19:13:18.6101271Z",
              "execution_start_time": "2025-03-10T19:12:59.0959914Z",
              "livy_statement_state": "available",
              "normalized_state": "finished",
              "parent_msg_id": "bd7a4af8-4eb2-4243-ae88-a98c91d9ac81",
              "queued_time": "2025-03-10T19:12:59.0278749Z",
              "session_id": "38",
              "session_start_time": null,
              "spark_jobs": null,
              "spark_pool": "ExecSmall",
              "state": "finished",
              "statement_id": 27,
              "statement_ids": [
                27
              ]
            },
            "text/plain": [
              "StatementMeta(ExecSmall, 38, 27, Finished, Available, Finished)"
            ]
          },
          "metadata": {},
          "output_type": "display_data"
        },
        {
          "name": "stdout",
          "output_type": "stream",
          "text": [
            "+-----+--------+-------------------+\n",
            "|extra|   count|         pcnt_total|\n",
            "+-----+--------+-------------------+\n",
            "|  0.0|52136826|  39.76281463308189|\n",
            "|  2.5|25845612| 19.711485295145447|\n",
            "|  1.0|22512382|  17.16935496639418|\n",
            "|  0.5|11273392|  8.597796045007962|\n",
            "|  3.5| 6854093|  5.227361355616549|\n",
            "|  5.0| 5044984|  3.847621326600587|\n",
            "|  3.0| 3692206| 2.8159079489256356|\n",
            "|  6.0|  642143| 0.4897385406033559|\n",
            "|  7.5|  625826| 0.4772941726556792|\n",
            "| 3.75|  425518|0.32452672429732754|\n",
            "| 4.25|  295806|0.22560021481463832|\n",
            "|  4.5|  277876|0.21192567186545386|\n",
            "| 9.25|  266317| 0.2031100532402657|\n",
            "| 1.75|  265614|0.20257390133322295|\n",
            "| 1.25|  262486|0.20018829227884208|\n",
            "| 6.75|   91356|0.06967381738235905|\n",
            "| 2.25|   88384|0.06740718371560074|\n",
            "| 2.75|   79327|0.06049974726882083|\n",
            "|10.25|   73022|0.05569115868574174|\n",
            "| 7.75|   56222|0.04287842463407975|\n",
            "+-----+--------+-------------------+\n",
            "only showing top 20 rows\n",
            "\n"
          ]
        }
      ],
      "source": [
        "union_df.select(\"extra\").groupBy(\"extra\").count().sort(F.desc(F.col(\"count\"))).withColumn(\"pcnt_total\", 100*F.col(\"count\")/union_df.count()).show()"
      ]
    },
    {
      "cell_type": "code",
      "execution_count": 30,
      "metadata": {},
      "outputs": [
        {
          "data": {
            "application/vnd.livy.statement-meta+json": {
              "execution_finish_time": "2025-03-10T19:19:35.2700174Z",
              "execution_start_time": "2025-03-10T19:18:54.1384366Z",
              "livy_statement_state": "available",
              "normalized_state": "finished",
              "parent_msg_id": "7e19003b-e5ba-4188-80b3-28a21d2565b7",
              "queued_time": "2025-03-10T19:17:48.951951Z",
              "session_id": "38",
              "session_start_time": null,
              "spark_jobs": null,
              "spark_pool": "ExecSmall",
              "state": "finished",
              "statement_id": 31,
              "statement_ids": [
                31
              ]
            },
            "text/plain": [
              "StatementMeta(ExecSmall, 38, 31, Finished, Available, Finished)"
            ]
          },
          "metadata": {},
          "output_type": "display_data"
        },
        {
          "name": "stdout",
          "output_type": "stream",
          "text": [
            "+-----+-----+--------------------+\n",
            "|extra|count|          pcnt_total|\n",
            "+-----+-----+--------------------+\n",
            "|88.81|    1| 7.62662741170356E-7|\n",
            "|87.56|    2|1.525325482340712E-6|\n",
            "| 65.0|    1| 7.62662741170356E-7|\n",
            "|41.07|    1| 7.62662741170356E-7|\n",
            "| 36.1|    1| 7.62662741170356E-7|\n",
            "| 33.5|    1| 7.62662741170356E-7|\n",
            "| 30.5|    1| 7.62662741170356E-7|\n",
            "| 25.5|    1| 7.62662741170356E-7|\n",
            "| 24.5|    1| 7.62662741170356E-7|\n",
            "| 23.5|    1| 7.62662741170356E-7|\n",
            "| 20.0|    1| 7.62662741170356E-7|\n",
            "|19.95|    1| 7.62662741170356E-7|\n",
            "|16.25|    1| 7.62662741170356E-7|\n",
            "|16.19|    1| 7.62662741170356E-7|\n",
            "| 16.0|    1| 7.62662741170356E-7|\n",
            "| 15.6|    1| 7.62662741170356E-7|\n",
            "|15.25|    1| 7.62662741170356E-7|\n",
            "| 14.8|    1| 7.62662741170356E-7|\n",
            "|14.44|    1| 7.62662741170356E-7|\n",
            "|14.35|    1| 7.62662741170356E-7|\n",
            "+-----+-----+--------------------+\n",
            "only showing top 20 rows\n",
            "\n"
          ]
        }
      ],
      "source": [
        "union_df.select(\"extra\").groupBy(\"extra\").count().sort(F.desc(F.col(\"extra\"))).withColumn(\"pcnt_total\", 100*F.col(\"count\")/union_df.count()).show()"
      ]
    },
    {
      "cell_type": "code",
      "execution_count": 29,
      "metadata": {},
      "outputs": [
        {
          "data": {
            "application/vnd.livy.statement-meta+json": {
              "execution_finish_time": "2025-03-10T19:18:54.0635764Z",
              "execution_start_time": "2025-03-10T19:17:25.1429718Z",
              "livy_statement_state": "available",
              "normalized_state": "finished",
              "parent_msg_id": "1514aa76-809d-4fbe-917f-5b01636e1d65",
              "queued_time": "2025-03-10T19:17:25.051255Z",
              "session_id": "38",
              "session_start_time": null,
              "spark_jobs": null,
              "spark_pool": "ExecSmall",
              "state": "finished",
              "statement_id": 30,
              "statement_ids": [
                30
              ]
            },
            "text/plain": [
              "StatementMeta(ExecSmall, 38, 30, Finished, Available, Finished)"
            ]
          },
          "metadata": {},
          "output_type": "display_data"
        },
        {
          "name": "stdout",
          "output_type": "stream",
          "text": [
            "+-------+-------+-------+-------+-------+---------+-------+--------+---------+\n",
            "|pcnt_25|pcnt_50|pcnt_75|pcnt_90|pcnt_95|pcnt_97.5|pcnt_99|pcnt_999|pcnt_9999|\n",
            "+-------+-------+-------+-------+-------+---------+-------+--------+---------+\n",
            "|    0.0|    1.0|    2.5|    3.5|    5.0|      5.0|   6.75|   10.25|    88.81|\n",
            "+-------+-------+-------+-------+-------+---------+-------+--------+---------+\n",
            "\n"
          ]
        }
      ],
      "source": [
        "col = \"extra\"\n",
        "union_df.select(\n",
        "    F.percentile_approx(col, 0.25).alias(\"pcnt_25\"),\n",
        "    F.percentile_approx(col, 0.50).alias(\"pcnt_50\"),\n",
        "    F.percentile_approx(col, 0.75).alias(\"pcnt_75\"),\n",
        "    F.percentile_approx(col, 0.90).alias(\"pcnt_90\"),\n",
        "    F.percentile_approx(col, 0.95).alias(\"pcnt_95\"),\n",
        "    F.percentile_approx(col, 0.975).alias(\"pcnt_97.5\"),\n",
        "    F.percentile_approx(col, 0.99).alias(\"pcnt_99\"),\n",
        "    F.percentile_approx(col, 0.999).alias(\"pcnt_999\"),\n",
        "    F.percentile_approx(col, 0.9999).alias(\"pcnt_9999\")\n",
        ").show()"
      ]
    },
    {
      "cell_type": "markdown",
      "metadata": {
        "nteract": {
          "transient": {
            "deleting": false
          }
        }
      },
      "source": [
        "A good cutoff value would be $15."
      ]
    },
    {
      "cell_type": "markdown",
      "metadata": {
        "nteract": {
          "transient": {
            "deleting": false
          }
        }
      },
      "source": [
        "#### MTA Tax"
      ]
    },
    {
      "cell_type": "code",
      "execution_count": 24,
      "metadata": {},
      "outputs": [
        {
          "data": {
            "application/vnd.livy.statement-meta+json": {
              "execution_finish_time": "2025-03-10T19:12:22.2959949Z",
              "execution_start_time": "2025-03-10T19:12:01.5301471Z",
              "livy_statement_state": "available",
              "normalized_state": "finished",
              "parent_msg_id": "8524aa2c-f97f-4cfe-bea9-463230c47079",
              "queued_time": "2025-03-10T19:12:01.4656625Z",
              "session_id": "38",
              "session_start_time": null,
              "spark_jobs": null,
              "spark_pool": "ExecSmall",
              "state": "finished",
              "statement_id": 25,
              "statement_ids": [
                25
              ]
            },
            "text/plain": [
              "StatementMeta(ExecSmall, 38, 25, Finished, Available, Finished)"
            ]
          },
          "metadata": {},
          "output_type": "display_data"
        },
        {
          "name": "stdout",
          "output_type": "stream",
          "text": [
            "+-------+---------+--------------------+\n",
            "|mta_tax|    count|          pcnt_total|\n",
            "+-------+---------+--------------------+\n",
            "|    0.5|130243243|   99.33166872529678|\n",
            "|    0.0|   866664|  0.6609723419136654|\n",
            "|    0.8|     7722|0.005889281687317489|\n",
            "|   2.54|      555|4.232778213495475...|\n",
            "|   0.05|      336|2.562546810332396E-4|\n",
            "|   0.85|      292|2.226975204217439...|\n",
            "|    1.3|      250| 1.90665685292589E-4|\n",
            "|    1.5|      119|9.075686619927237E-5|\n",
            "|    3.3|       92|7.016497218767275E-5|\n",
            "|   2.78|       84| 6.40636702583099E-5|\n",
            "|    4.0|       72|5.491171736426563E-5|\n",
            "|    0.3|       42|3.203183512915495E-5|\n",
            "|   1.03|       19|1.449059208223676...|\n",
            "|   1.05|       11|8.389290152873916E-6|\n",
            "|   0.35|        6|4.575976447022136E-6|\n",
            "|   3.25|        6|4.575976447022136E-6|\n",
            "|    3.5|        5| 3.81331370585178E-6|\n",
            "|    2.8|        4|3.050650964681424E-6|\n",
            "|   2.64|        4|3.050650964681424E-6|\n",
            "|    3.0|        3|2.287988223511068E-6|\n",
            "+-------+---------+--------------------+\n",
            "only showing top 20 rows\n",
            "\n"
          ]
        }
      ],
      "source": [
        "union_df.select(\"mta_tax\").groupBy(\"mta_tax\").count().sort(F.desc(F.col(\"count\"))).withColumn(\"pcnt_total\", 100*F.col(\"count\")/union_df.count()).show()"
      ]
    },
    {
      "cell_type": "markdown",
      "metadata": {
        "nteract": {
          "transient": {
            "deleting": false
          }
        }
      },
      "source": [
        "MTA Tax must be $0.00 or $0.50"
      ]
    },
    {
      "cell_type": "markdown",
      "metadata": {
        "nteract": {
          "transient": {
            "deleting": false
          }
        }
      },
      "source": [
        "#### Improvement Surcharge"
      ]
    },
    {
      "cell_type": "code",
      "execution_count": 22,
      "metadata": {},
      "outputs": [
        {
          "data": {
            "application/vnd.livy.statement-meta+json": {
              "execution_finish_time": "2025-03-10T19:09:54.9951822Z",
              "execution_start_time": "2025-03-10T19:09:14.3294685Z",
              "livy_statement_state": "available",
              "normalized_state": "finished",
              "parent_msg_id": "cf115a0d-8a16-4a81-b3e1-2069dde72ee2",
              "queued_time": "2025-03-10T19:09:14.2439958Z",
              "session_id": "38",
              "session_start_time": null,
              "spark_jobs": null,
              "spark_pool": "ExecSmall",
              "state": "finished",
              "statement_id": 23,
              "statement_ids": [
                23
              ]
            },
            "text/plain": [
              "StatementMeta(ExecSmall, 38, 23, Finished, Available, Finished)"
            ]
          },
          "metadata": {},
          "output_type": "display_data"
        },
        {
          "name": "stdout",
          "output_type": "stream",
          "text": [
            "+---------------------+--------+------------------+\n",
            "|improvement_surcharge|   count|        pcnt_total|\n",
            "+---------------------+--------+------------------+\n",
            "|                  0.0|  290217|0.2213376927542372|\n",
            "|                  0.3|59726207| 45.55095275032811|\n",
            "|                  1.0|71103132| 54.22770955691766|\n",
            "+---------------------+--------+------------------+\n",
            "\n"
          ]
        }
      ],
      "source": [
        "union_df.select(\"improvement_surcharge\").groupBy(\"improvement_surcharge\").count().sort(F.asc(F.col(\"improvement_surcharge\"))).withColumn(\"pcnt_total\", 100*F.col(\"count\")/union_df.count()).show()"
      ]
    },
    {
      "cell_type": "markdown",
      "metadata": {
        "nteract": {
          "transient": {
            "deleting": false
          }
        }
      },
      "source": [
        "Improvement surchage is either $0, $0.30, or $1.00."
      ]
    },
    {
      "cell_type": "markdown",
      "metadata": {
        "nteract": {
          "transient": {
            "deleting": false
          }
        }
      },
      "source": [
        "#### Tip Amount"
      ]
    },
    {
      "cell_type": "code",
      "execution_count": 31,
      "metadata": {},
      "outputs": [
        {
          "data": {
            "application/vnd.livy.statement-meta+json": {
              "execution_finish_time": "2025-03-10T19:23:10.0085781Z",
              "execution_start_time": "2025-03-10T19:20:54.6903588Z",
              "livy_statement_state": "available",
              "normalized_state": "finished",
              "parent_msg_id": "605be9a3-5251-4925-b7da-c5580ed4ccd4",
              "queued_time": "2025-03-10T19:20:54.6116204Z",
              "session_id": "38",
              "session_start_time": null,
              "spark_jobs": null,
              "spark_pool": "ExecSmall",
              "state": "finished",
              "statement_id": 32,
              "statement_ids": [
                32
              ]
            },
            "text/plain": [
              "StatementMeta(ExecSmall, 38, 32, Finished, Available, Finished)"
            ]
          },
          "metadata": {},
          "output_type": "display_data"
        },
        {
          "name": "stdout",
          "output_type": "stream",
          "text": [
            "+-------+-------+-------+-------+-------+---------+-------+--------+---------+\n",
            "|pcnt_25|pcnt_50|pcnt_75|pcnt_90|pcnt_95|pcnt_97.5|pcnt_99|pcnt_999|pcnt_9999|\n",
            "+-------+-------+-------+-------+-------+---------+-------+--------+---------+\n",
            "|    1.0|    2.5|   3.98|   6.64|  10.37|    13.95|  16.58|   26.87|  1400.16|\n",
            "+-------+-------+-------+-------+-------+---------+-------+--------+---------+\n",
            "\n"
          ]
        }
      ],
      "source": [
        "col = \"tip_amount\"\n",
        "union_df.select(\n",
        "    F.percentile_approx(col, 0.25).alias(\"pcnt_25\"),\n",
        "    F.percentile_approx(col, 0.50).alias(\"pcnt_50\"),\n",
        "    F.percentile_approx(col, 0.75).alias(\"pcnt_75\"),\n",
        "    F.percentile_approx(col, 0.90).alias(\"pcnt_90\"),\n",
        "    F.percentile_approx(col, 0.95).alias(\"pcnt_95\"),\n",
        "    F.percentile_approx(col, 0.975).alias(\"pcnt_97.5\"),\n",
        "    F.percentile_approx(col, 0.99).alias(\"pcnt_99\"),\n",
        "    F.percentile_approx(col, 0.999).alias(\"pcnt_999\"),\n",
        "    F.percentile_approx(col, 0.9999).alias(\"pcnt_9999\")\n",
        ").show()"
      ]
    },
    {
      "cell_type": "code",
      "execution_count": 40,
      "metadata": {},
      "outputs": [
        {
          "data": {
            "application/vnd.livy.statement-meta+json": {
              "execution_finish_time": "2025-03-10T19:30:35.5019868Z",
              "execution_start_time": "2025-03-10T19:30:23.7541455Z",
              "livy_statement_state": "available",
              "normalized_state": "finished",
              "parent_msg_id": "1fff0cfe-4fc6-4e35-8e4f-bcc1929b68b6",
              "queued_time": "2025-03-10T19:30:23.6921194Z",
              "session_id": "38",
              "session_start_time": null,
              "spark_jobs": null,
              "spark_pool": "ExecSmall",
              "state": "finished",
              "statement_id": 41,
              "statement_ids": [
                41
              ]
            },
            "text/plain": [
              "StatementMeta(ExecSmall, 38, 41, Finished, Available, Finished)"
            ]
          },
          "metadata": {},
          "output_type": "display_data"
        },
        {
          "data": {
            "text/plain": [
              "20"
            ]
          },
          "execution_count": 83,
          "metadata": {},
          "output_type": "execute_result"
        }
      ],
      "source": [
        "union_df.select(F.round(F.col(\"tip_amount\")).alias(\"tip_rnd\")).where(F.col(\"tip_amount\") > 500).distinct().count()"
      ]
    },
    {
      "cell_type": "markdown",
      "metadata": {
        "nteract": {
          "transient": {
            "deleting": false
          }
        }
      },
      "source": [
        "Tip amount should be >= $0.00.\n",
        "It's hard to define an upper limit for a tip because there's no real hard limit to respect.\n",
        "Some folks just might be very generous tippers."
      ]
    },
    {
      "cell_type": "markdown",
      "metadata": {
        "nteract": {
          "transient": {
            "deleting": false
          }
        }
      },
      "source": [
        "#### Tolls Amount"
      ]
    },
    {
      "cell_type": "code",
      "execution_count": 32,
      "metadata": {},
      "outputs": [
        {
          "data": {
            "application/vnd.livy.statement-meta+json": {
              "execution_finish_time": "2025-03-10T19:24:08.6866003Z",
              "execution_start_time": "2025-03-10T19:23:10.1157567Z",
              "livy_statement_state": "available",
              "normalized_state": "finished",
              "parent_msg_id": "bfba9979-bd06-49c3-8c18-2de320e0e194",
              "queued_time": "2025-03-10T19:21:55.560189Z",
              "session_id": "38",
              "session_start_time": null,
              "spark_jobs": null,
              "spark_pool": "ExecSmall",
              "state": "finished",
              "statement_id": 33,
              "statement_ids": [
                33
              ]
            },
            "text/plain": [
              "StatementMeta(ExecSmall, 38, 33, Finished, Available, Finished)"
            ]
          },
          "metadata": {},
          "output_type": "display_data"
        },
        {
          "name": "stdout",
          "output_type": "stream",
          "text": [
            "+-------+-------+-------+-------+-------+---------+-------+--------+---------+\n",
            "|pcnt_25|pcnt_50|pcnt_75|pcnt_90|pcnt_95|pcnt_97.5|pcnt_99|pcnt_999|pcnt_9999|\n",
            "+-------+-------+-------+-------+-------+---------+-------+--------+---------+\n",
            "|    0.0|    0.0|    0.0|    0.0|   6.55|     6.94|   6.94|   20.32|  1702.88|\n",
            "+-------+-------+-------+-------+-------+---------+-------+--------+---------+\n",
            "\n"
          ]
        }
      ],
      "source": [
        "col = \"tolls_amount\"\n",
        "union_df.select(\n",
        "    F.percentile_approx(col, 0.25).alias(\"pcnt_25\"),\n",
        "    F.percentile_approx(col, 0.50).alias(\"pcnt_50\"),\n",
        "    F.percentile_approx(col, 0.75).alias(\"pcnt_75\"),\n",
        "    F.percentile_approx(col, 0.90).alias(\"pcnt_90\"),\n",
        "    F.percentile_approx(col, 0.95).alias(\"pcnt_95\"),\n",
        "    F.percentile_approx(col, 0.975).alias(\"pcnt_97.5\"),\n",
        "    F.percentile_approx(col, 0.99).alias(\"pcnt_99\"),\n",
        "    F.percentile_approx(col, 0.999).alias(\"pcnt_999\"),\n",
        "    F.percentile_approx(col, 0.9999).alias(\"pcnt_9999\")\n",
        ").show()"
      ]
    },
    {
      "cell_type": "code",
      "execution_count": 41,
      "metadata": {},
      "outputs": [
        {
          "data": {
            "application/vnd.livy.statement-meta+json": {
              "execution_finish_time": "2025-03-10T19:33:14.906909Z",
              "execution_start_time": "2025-03-10T19:33:03.3873335Z",
              "livy_statement_state": "available",
              "normalized_state": "finished",
              "parent_msg_id": "1b76d500-b9f3-4d6c-82a0-7c7d23764432",
              "queued_time": "2025-03-10T19:33:03.3237097Z",
              "session_id": "38",
              "session_start_time": null,
              "spark_jobs": null,
              "spark_pool": "ExecSmall",
              "state": "finished",
              "statement_id": 42,
              "statement_ids": [
                42
              ]
            },
            "text/plain": [
              "StatementMeta(ExecSmall, 38, 42, Finished, Available, Finished)"
            ]
          },
          "metadata": {},
          "output_type": "display_data"
        },
        {
          "data": {
            "text/plain": [
              "120"
            ]
          },
          "execution_count": 85,
          "metadata": {},
          "output_type": "execute_result"
        }
      ],
      "source": [
        "union_df.select(F.round(F.col(\"tolls_amount\")).alias(\"tolls_rnd\")).where(F.col(\"tolls_amount\") > 20).distinct().count()"
      ]
    },
    {
      "cell_type": "code",
      "execution_count": 42,
      "metadata": {},
      "outputs": [
        {
          "data": {
            "application/vnd.livy.statement-meta+json": {
              "execution_finish_time": "2025-03-10T19:34:39.943482Z",
              "execution_start_time": "2025-03-10T19:34:15.2464055Z",
              "livy_statement_state": "available",
              "normalized_state": "finished",
              "parent_msg_id": "c3a86ce6-2105-4526-a7f3-ff62ba253a66",
              "queued_time": "2025-03-10T19:34:15.1791488Z",
              "session_id": "38",
              "session_start_time": null,
              "spark_jobs": null,
              "spark_pool": "ExecSmall",
              "state": "finished",
              "statement_id": 43,
              "statement_ids": [
                43
              ]
            },
            "text/plain": [
              "StatementMeta(ExecSmall, 38, 43, Finished, Available, Finished)"
            ]
          },
          "metadata": {},
          "output_type": "display_data"
        },
        {
          "name": "stdout",
          "output_type": "stream",
          "text": [
            "+---------+-----+--------------------+\n",
            "|tolls_rnd|count|          pcnt_total|\n",
            "+---------+-----+--------------------+\n",
            "|     20.0|23425| 0.01786537471191559|\n",
            "|     21.0|27824|0.021220328110323986|\n",
            "|     22.0|25342| 0.01932739918673916|\n",
            "|     23.0|12750| 0.00972394994992204|\n",
            "|     24.0| 8719|0.006649656440264334|\n",
            "|     25.0| 8663|0.006606947326758794|\n",
            "|     26.0| 5244|0.003999403414697347|\n",
            "|     27.0| 6992|0.005332537886263129|\n",
            "|     28.0| 4000|0.003050650964681424|\n",
            "|     29.0| 3293|0.002511448406673982|\n",
            "|     30.0| 3396|0.002590002669014529|\n",
            "|     31.0| 1639|0.001250004232778...|\n",
            "|     32.0| 1492|0.001137892809826...|\n",
            "|     33.0|  839|6.398740398419287E-4|\n",
            "|     34.0| 1486|0.001133316833379149|\n",
            "|     35.0|  986| 7.51985462793971E-4|\n",
            "|     36.0|  905|6.902097807591722E-4|\n",
            "|     37.0|  550|4.194645076436958E-4|\n",
            "|     38.0|  608|4.636989466315765E-4|\n",
            "|     39.0|  394|3.004891200211202...|\n",
            "|     40.0|  480|3.660781157617708...|\n",
            "|     41.0|  368| 2.80659888750691E-4|\n",
            "|     42.0|  208|1.586338501634340...|\n",
            "|     43.0|  195|1.487192345282194...|\n",
            "|     44.0|  141|1.075354465050201...|\n",
            "|     45.0|  244|1.860897088455668...|\n",
            "|     46.0|  105|8.007958782288737E-5|\n",
            "|     47.0|  120|9.151952894044272E-5|\n",
            "|     48.0|   78|5.948769381128777E-5|\n",
            "|     49.0|   61|4.652242721139171...|\n",
            "|     50.0|  114|8.694355249342059E-5|\n",
            "|     51.0|   35|2.669319594096246E-5|\n",
            "|     52.0|   50|3.813313705851780...|\n",
            "|     53.0|   33|2.516787045862175E-5|\n",
            "|     54.0|   40|3.050650964681424E-5|\n",
            "|     55.0|   36|2.745585868213281...|\n",
            "|     56.0|   29|2.211721949394032...|\n",
            "|     57.0|   40|3.050650964681424E-5|\n",
            "|     58.0|   19|1.449059208223676...|\n",
            "|     59.0|   25|1.906656852925890...|\n",
            "|     60.0|   42|3.203183512915495E-5|\n",
            "|     61.0|   17|1.296526659989605...|\n",
            "|     62.0|   17|1.296526659989605...|\n",
            "|     63.0|   23|1.754124304691818...|\n",
            "|     64.0|   15|1.143994111755534E-5|\n",
            "|     65.0|   34|2.593053319979210...|\n",
            "|     66.0|   29|2.211721949394032...|\n",
            "|     67.0|   20|1.525325482340712E-5|\n",
            "|     68.0|    9|6.863964670533204E-6|\n",
            "|     69.0|   19|1.449059208223676...|\n",
            "|     70.0|   25|1.906656852925890...|\n",
            "+---------+-----+--------------------+\n",
            "only showing top 51 rows\n",
            "\n"
          ]
        }
      ],
      "source": [
        "union_df.select(F.round(F.col(\"tolls_amount\")).alias(\"tolls_rnd\")).where(union_df.tolls_amount > 20).groupBy(\"tolls_rnd\").count().sort(F.asc(F.col(\"tolls_rnd\"))).withColumn(\"pcnt_total\", 100*F.col(\"count\")/union_df.count()).show(51)"
      ]
    },
    {
      "cell_type": "markdown",
      "metadata": {
        "nteract": {
          "transient": {
            "deleting": false
          }
        }
      },
      "source": [
        "Toll amount upper limit should be <= $30.\n",
        "There are such few counts above $30 toll feels."
      ]
    },
    {
      "cell_type": "markdown",
      "metadata": {
        "nteract": {
          "transient": {
            "deleting": false
          }
        }
      },
      "source": [
        "#### Total Amount"
      ]
    },
    {
      "cell_type": "markdown",
      "metadata": {
        "nteract": {
          "transient": {
            "deleting": false
          }
        }
      },
      "source": [
        "Total amount will not be analyzed.\n",
        "Instead, it's just more efficient to recalculate the total amount from the other validated cost fields."
      ]
    },
    {
      "cell_type": "markdown",
      "metadata": {
        "nteract": {
          "transient": {
            "deleting": false
          }
        }
      },
      "source": [
        "#### Congestion Surcharge"
      ]
    },
    {
      "cell_type": "code",
      "execution_count": 34,
      "metadata": {},
      "outputs": [
        {
          "data": {
            "application/vnd.livy.statement-meta+json": {
              "execution_finish_time": "2025-03-10T19:26:00.5499128Z",
              "execution_start_time": "2025-03-10T19:25:33.8616826Z",
              "livy_statement_state": "available",
              "normalized_state": "finished",
              "parent_msg_id": "8242a062-8014-4ecc-9a6e-ba5808fc783e",
              "queued_time": "2025-03-10T19:23:08.5735206Z",
              "session_id": "38",
              "session_start_time": null,
              "spark_jobs": null,
              "spark_pool": "ExecSmall",
              "state": "finished",
              "statement_id": 35,
              "statement_ids": [
                35
              ]
            },
            "text/plain": [
              "StatementMeta(ExecSmall, 38, 35, Finished, Available, Finished)"
            ]
          },
          "metadata": {},
          "output_type": "display_data"
        },
        {
          "name": "stdout",
          "output_type": "stream",
          "text": [
            "+--------------------+---------+--------------------+\n",
            "|congestion_surcharge|    count|          pcnt_total|\n",
            "+--------------------+---------+--------------------+\n",
            "|                 0.0|  9162281|    6.98773034283307|\n",
            "|                 0.3|        1| 7.62662741170356E-7|\n",
            "|                 0.5|       22|1.677858030574783...|\n",
            "|                0.75|       72|5.491171736426563E-5|\n",
            "|                 1.0|       41| 3.12691723879846E-5|\n",
            "|                 1.8|        1| 7.62662741170356E-7|\n",
            "|                2.25|        1| 7.62662741170356E-7|\n",
            "|                 2.5|121957077|   93.01211864994418|\n",
            "|                2.52|        1| 7.62662741170356E-7|\n",
            "|                2.75|       59|  4.4997101729051E-5|\n",
            "+--------------------+---------+--------------------+\n",
            "\n"
          ]
        }
      ],
      "source": [
        "union_df.select(\"congestion_surcharge\").groupBy(\"congestion_surcharge\").count().sort(F.asc(F.col(\"congestion_surcharge\"))).withColumn(\"pcnt_total\", 100*F.col(\"count\")/union_df.count()).show()"
      ]
    },
    {
      "cell_type": "markdown",
      "metadata": {
        "nteract": {
          "transient": {
            "deleting": false
          }
        }
      },
      "source": [
        "Congestion fees should either be $0.00 or $2.50"
      ]
    },
    {
      "cell_type": "markdown",
      "metadata": {
        "nteract": {
          "transient": {
            "deleting": false
          }
        }
      },
      "source": [
        "#### Airport Fee"
      ]
    },
    {
      "cell_type": "code",
      "execution_count": 33,
      "metadata": {},
      "outputs": [
        {
          "data": {
            "application/vnd.livy.statement-meta+json": {
              "execution_finish_time": "2025-03-10T19:25:33.7828359Z",
              "execution_start_time": "2025-03-10T19:24:08.7671708Z",
              "livy_statement_state": "available",
              "normalized_state": "finished",
              "parent_msg_id": "60358db5-aef4-46dd-8893-998d97260680",
              "queued_time": "2025-03-10T19:22:14.3366422Z",
              "session_id": "38",
              "session_start_time": null,
              "spark_jobs": null,
              "spark_pool": "ExecSmall",
              "state": "finished",
              "statement_id": 34,
              "statement_ids": [
                34
              ]
            },
            "text/plain": [
              "StatementMeta(ExecSmall, 38, 34, Finished, Available, Finished)"
            ]
          },
          "metadata": {},
          "output_type": "display_data"
        },
        {
          "name": "stdout",
          "output_type": "stream",
          "text": [
            "+-----------+---------+-------------------+\n",
            "|airport_fee|    count|         pcnt_total|\n",
            "+-----------+---------+-------------------+\n",
            "|        0.0|120629616|  91.99971360488743|\n",
            "|        0.5|        1|7.62662741170356E-7|\n",
            "|        1.0|        1|7.62662741170356E-7|\n",
            "|       1.25|  5071019| 3.8674772510669575|\n",
            "|        1.7|        1|7.62662741170356E-7|\n",
            "|       1.75|  5418918|  4.132806856057384|\n",
            "+-----------+---------+-------------------+\n",
            "\n"
          ]
        }
      ],
      "source": [
        "union_df.select(\"airport_fee\").groupBy(\"airport_fee\").count().sort(F.asc(F.col(\"airport_fee\"))).withColumn(\"pcnt_total\", 100*F.col(\"count\")/union_df.count()).show()"
      ]
    },
    {
      "cell_type": "markdown",
      "metadata": {
        "nteract": {
          "transient": {
            "deleting": false
          }
        }
      },
      "source": [
        "Airport fees should be $0.00, $1.25, or $1.75"
      ]
    },
    {
      "cell_type": "markdown",
      "metadata": {
        "nteract": {
          "transient": {
            "deleting": false
          }
        }
      },
      "source": [
        "#### Trip Duration (minutes)"
      ]
    },
    {
      "cell_type": "code",
      "execution_count": 45,
      "metadata": {},
      "outputs": [
        {
          "data": {
            "application/vnd.livy.statement-meta+json": {
              "execution_finish_time": "2025-03-10T19:40:18.0803473Z",
              "execution_start_time": "2025-03-10T19:38:24.8746487Z",
              "livy_statement_state": "available",
              "normalized_state": "finished",
              "parent_msg_id": "19e7a644-0945-46a0-9196-080a93709dc2",
              "queued_time": "2025-03-10T19:38:24.800159Z",
              "session_id": "38",
              "session_start_time": null,
              "spark_jobs": null,
              "spark_pool": "ExecSmall",
              "state": "finished",
              "statement_id": 46,
              "statement_ids": [
                46
              ]
            },
            "text/plain": [
              "StatementMeta(ExecSmall, 38, 46, Finished, Available, Finished)"
            ]
          },
          "metadata": {},
          "output_type": "display_data"
        },
        {
          "name": "stdout",
          "output_type": "stream",
          "text": [
            "+-----------------+-------+------------------+------------------+------------------+---------+-----------------+-----------------+--------------------+\n",
            "|          pcnt_25|pcnt_50|           pcnt_75|           pcnt_90|           pcnt_95|pcnt_97.5|          pcnt_99|         pcnt_999|           pcnt_9999|\n",
            "+-----------------+-------+------------------+------------------+------------------+---------+-----------------+-----------------+--------------------+\n",
            "|7.516666666666667|   12.3|19.983333333333334|31.416666666666668|41.916666666666664|    53.15|67.71666666666667|820.4166666666666|1.0322055183333334E7|\n",
            "+-----------------+-------+------------------+------------------+------------------+---------+-----------------+-----------------+--------------------+\n",
            "\n"
          ]
        }
      ],
      "source": [
        "col = \"trip_duration_min\"\n",
        "union_df.select(\n",
        "    F.percentile_approx(col, 0.25).alias(\"pcnt_25\"),\n",
        "    F.percentile_approx(col, 0.50).alias(\"pcnt_50\"),\n",
        "    F.percentile_approx(col, 0.75).alias(\"pcnt_75\"),\n",
        "    F.percentile_approx(col, 0.90).alias(\"pcnt_90\"),\n",
        "    F.percentile_approx(col, 0.95).alias(\"pcnt_95\"),\n",
        "    F.percentile_approx(col, 0.975).alias(\"pcnt_97.5\"),\n",
        "    F.percentile_approx(col, 0.99).alias(\"pcnt_99\"),\n",
        "    F.percentile_approx(col, 0.999).alias(\"pcnt_999\"),\n",
        "    F.percentile_approx(col, 0.9999).alias(\"pcnt_9999\")\n",
        ").show()"
      ]
    },
    {
      "cell_type": "markdown",
      "metadata": {
        "nteract": {
          "transient": {
            "deleting": false
          }
        }
      },
      "source": [
        "A good cutoff for trip duration could be 90 minutes.\n",
        "Longer trips may happen, but are far outside the norm.\n",
        "90 minute trip duration should be more than generous."
      ]
    },
    {
      "cell_type": "markdown",
      "metadata": {
        "nteract": {
          "transient": {
            "deleting": false
          }
        }
      },
      "source": [
        "## Conclusion"
      ]
    },
    {
      "cell_type": "markdown",
      "metadata": {
        "nteract": {
          "transient": {
            "deleting": false
          }
        }
      },
      "source": [
        "Each numeric column has been analyzed and general filter rules have been established.\n",
        "The remaining columns that are categorical or date fields have predefined filtering rules based on the data dictionary."
      ]
    }
  ],
  "metadata": {
    "description": null,
    "kernelspec": {
      "display_name": "python",
      "name": "synapse_pyspark"
    },
    "language_info": {
      "name": "python"
    },
    "save_output": true,
    "synapse_widget": {
      "state": {},
      "version": "0.1"
    }
  },
  "nbformat": 4,
  "nbformat_minor": 2
}
