{
  "cells": [
    {
      "cell_type": "markdown",
      "metadata": {
        "nteract": {
          "transient": {
            "deleting": false
          }
        }
      },
      "source": [
        "# Gold Layer - Fare Amount"
      ]
    },
    {
      "cell_type": "markdown",
      "metadata": {
        "nteract": {
          "transient": {
            "deleting": false
          }
        }
      },
      "source": [
        "Note: This notebook uses Azure Synapse Analytics with PySpark\n",
        "\n",
        "This notebook contains the process to go from the Silver layer to the Gold layer for fare amounts.\n",
        "\n",
        "By using domain knowledge, a first approach is to filter the data as follows:\n",
        "\n",
        "1. Fare amount must be >= 3.00\n",
        "2. RatecodeID = 1\n",
        "\n",
        "The columns to keep are:\n",
        "* pu_month\n",
        "* pu_year\n",
        "* pu_year_month\n",
        "* trip_distance\n",
        "* trip_duraion_min\n",
        "* fare_amount"
      ]
    },
    {
      "cell_type": "code",
      "execution_count": 9,
      "metadata": {},
      "outputs": [
        {
          "data": {
            "application/vnd.livy.statement-meta+json": {
              "execution_finish_time": "2025-03-24T17:28:12.3227545Z",
              "execution_start_time": "2025-03-24T17:28:12.1076082Z",
              "livy_statement_state": "available",
              "normalized_state": "finished",
              "parent_msg_id": "c37558cf-dde5-459f-a36d-7c55125e8ee4",
              "queued_time": "2025-03-24T17:28:12.106044Z",
              "session_id": "46",
              "session_start_time": null,
              "spark_jobs": null,
              "spark_pool": "ExecSmall",
              "state": "finished",
              "statement_id": 10,
              "statement_ids": [
                10
              ]
            },
            "text/plain": [
              "StatementMeta(ExecSmall, 46, 10, Finished, Available, Finished)"
            ]
          },
          "metadata": {},
          "output_type": "display_data"
        }
      ],
      "source": [
        "cols_to_keep = [\"pu_month\", \"pu_year\", \"pu_year_month\", \"trip_distance\", \"trip_duration_min\", \"fare_amount\"]"
      ]
    },
    {
      "cell_type": "code",
      "execution_count": 2,
      "metadata": {},
      "outputs": [
        {
          "data": {
            "application/vnd.livy.statement-meta+json": {
              "execution_finish_time": "2025-03-24T17:26:05.407855Z",
              "execution_start_time": "2025-03-24T17:26:05.1782042Z",
              "livy_statement_state": "available",
              "normalized_state": "finished",
              "parent_msg_id": "0a66f449-207c-433b-814e-d1ad024e1f51",
              "queued_time": "2025-03-24T17:22:15.9135706Z",
              "session_id": "46",
              "session_start_time": null,
              "spark_jobs": null,
              "spark_pool": "ExecSmall",
              "state": "finished",
              "statement_id": 3,
              "statement_ids": [
                3
              ]
            },
            "text/plain": [
              "StatementMeta(ExecSmall, 46, 3, Finished, Available, Finished)"
            ]
          },
          "metadata": {},
          "output_type": "display_data"
        }
      ],
      "source": [
        "import pyspark.sql.functions as F"
      ]
    },
    {
      "cell_type": "code",
      "execution_count": 3,
      "metadata": {
        "microsoft": {
          "language": "python"
        }
      },
      "outputs": [
        {
          "data": {
            "application/vnd.livy.statement-meta+json": {
              "execution_finish_time": "2025-03-24T17:26:18.0728407Z",
              "execution_start_time": "2025-03-24T17:26:05.4183393Z",
              "livy_statement_state": "available",
              "normalized_state": "finished",
              "parent_msg_id": "fad94353-47d2-49c5-adbf-6963272096b4",
              "queued_time": "2025-03-24T17:22:15.9142595Z",
              "session_id": "46",
              "session_start_time": null,
              "spark_jobs": null,
              "spark_pool": "ExecSmall",
              "state": "finished",
              "statement_id": 4,
              "statement_ids": [
                4
              ]
            },
            "text/plain": [
              "StatementMeta(ExecSmall, 46, 4, Finished, Available, Finished)"
            ]
          },
          "metadata": {},
          "output_type": "display_data"
        }
      ],
      "source": [
        "%%pyspark\n",
        "df = spark.read.load(\"abfss://yellowtaxicab@jdshammasstorage.dfs.core.windows.net/silver/union\", format=\"parquet\")"
      ]
    },
    {
      "cell_type": "code",
      "execution_count": 10,
      "metadata": {},
      "outputs": [
        {
          "data": {
            "application/vnd.livy.statement-meta+json": {
              "execution_finish_time": "2025-03-24T17:28:16.4699871Z",
              "execution_start_time": "2025-03-24T17:28:16.2530788Z",
              "livy_statement_state": "available",
              "normalized_state": "finished",
              "parent_msg_id": "fe4072ec-cea1-46b9-8243-9b213e64a7bb",
              "queued_time": "2025-03-24T17:28:16.2516548Z",
              "session_id": "46",
              "session_start_time": null,
              "spark_jobs": null,
              "spark_pool": "ExecSmall",
              "state": "finished",
              "statement_id": 11,
              "statement_ids": [
                11
              ]
            },
            "text/plain": [
              "StatementMeta(ExecSmall, 46, 11, Finished, Available, Finished)"
            ]
          },
          "metadata": {},
          "output_type": "display_data"
        }
      ],
      "source": [
        "gold_df = df.select(cols_to_keep).filter((F.col(\"RatecodeID\") == 1) & (F.col(\"fare_amount\") >= 3.00) )"
      ]
    },
    {
      "cell_type": "code",
      "execution_count": 11,
      "metadata": {},
      "outputs": [
        {
          "data": {
            "application/vnd.livy.statement-meta+json": {
              "execution_finish_time": "2025-03-24T17:29:15.0655443Z",
              "execution_start_time": "2025-03-24T17:28:17.2122068Z",
              "livy_statement_state": "available",
              "normalized_state": "finished",
              "parent_msg_id": "e901488d-c80b-4f9d-b0e7-df040cfc4624",
              "queued_time": "2025-03-24T17:28:17.2107245Z",
              "session_id": "46",
              "session_start_time": null,
              "spark_jobs": null,
              "spark_pool": "ExecSmall",
              "state": "finished",
              "statement_id": 12,
              "statement_ids": [
                12
              ]
            },
            "text/plain": [
              "StatementMeta(ExecSmall, 46, 12, Finished, Available, Finished)"
            ]
          },
          "metadata": {},
          "output_type": "display_data"
        }
      ],
      "source": [
        "gold_df.write.partitionBy(\"pu_year_month\").parquet(\"abfss://yellowtaxicab@jdshammasstorage.dfs.core.windows.net/gold/fare_amount_init\", mode='overwrite')"
      ]
    },
    {
      "cell_type": "markdown",
      "metadata": {
        "nteract": {
          "transient": {
            "deleting": false
          }
        }
      },
      "source": [
        "Let's slice off a 3 month block of data to work with."
      ]
    },
    {
      "cell_type": "code",
      "execution_count": 12,
      "metadata": {},
      "outputs": [
        {
          "data": {
            "application/vnd.livy.statement-meta+json": {
              "execution_finish_time": "2025-03-24T17:29:15.29545Z",
              "execution_start_time": "2025-03-24T17:29:15.0766377Z",
              "livy_statement_state": "available",
              "normalized_state": "finished",
              "parent_msg_id": "167948c1-7a7b-4a4a-812d-bb96038e96e7",
              "queued_time": "2025-03-24T17:28:17.6163728Z",
              "session_id": "46",
              "session_start_time": null,
              "spark_jobs": null,
              "spark_pool": "ExecSmall",
              "state": "finished",
              "statement_id": 13,
              "statement_ids": [
                13
              ]
            },
            "text/plain": [
              "StatementMeta(ExecSmall, 46, 13, Finished, Available, Finished)"
            ]
          },
          "metadata": {},
          "output_type": "display_data"
        }
      ],
      "source": [
        "small_gold_df = gold_df.filter(F.col(\"pu_year_month\").isin([\"2023-6\", \"2023-7\", \"2023-8\"]))"
      ]
    },
    {
      "cell_type": "code",
      "execution_count": 13,
      "metadata": {},
      "outputs": [
        {
          "data": {
            "application/vnd.livy.statement-meta+json": {
              "execution_finish_time": "2025-03-24T17:29:23.9682243Z",
              "execution_start_time": "2025-03-24T17:29:15.3083611Z",
              "livy_statement_state": "available",
              "normalized_state": "finished",
              "parent_msg_id": "33d05a0d-8700-4ad1-a733-21d29072086c",
              "queued_time": "2025-03-24T17:28:17.8792391Z",
              "session_id": "46",
              "session_start_time": null,
              "spark_jobs": null,
              "spark_pool": "ExecSmall",
              "state": "finished",
              "statement_id": 14,
              "statement_ids": [
                14
              ]
            },
            "text/plain": [
              "StatementMeta(ExecSmall, 46, 14, Finished, Available, Finished)"
            ]
          },
          "metadata": {},
          "output_type": "display_data"
        }
      ],
      "source": [
        "small_gold_df.coalesce(1).write.parquet(\"abfss://yellowtaxicab@jdshammasstorage.dfs.core.windows.net/gold/fare_amount_init_6_8_2023\", mode='overwrite')"
      ]
    },
    {
      "cell_type": "code",
      "execution_count": 14,
      "metadata": {},
      "outputs": [
        {
          "data": {
            "application/vnd.livy.statement-meta+json": {
              "execution_finish_time": "2025-03-24T17:29:25.0962953Z",
              "execution_start_time": "2025-03-24T17:29:23.9791461Z",
              "livy_statement_state": "available",
              "normalized_state": "finished",
              "parent_msg_id": "8835515b-8c95-43dc-ab09-437e734ada68",
              "queued_time": "2025-03-24T17:28:18.1093404Z",
              "session_id": "46",
              "session_start_time": null,
              "spark_jobs": null,
              "spark_pool": "ExecSmall",
              "state": "finished",
              "statement_id": 15,
              "statement_ids": [
                15
              ]
            },
            "text/plain": [
              "StatementMeta(ExecSmall, 46, 15, Finished, Available, Finished)"
            ]
          },
          "metadata": {},
          "output_type": "display_data"
        },
        {
          "name": "stdout",
          "output_type": "stream",
          "text": [
            "+--------+-------+-------------+-------------+------------------+-----------+\n",
            "|pu_month|pu_year|pu_year_month|trip_distance| trip_duration_min|fare_amount|\n",
            "+--------+-------+-------------+-------------+------------------+-----------+\n",
            "|       6|   2023|       2023-6|          3.4|20.883333333333333|       21.9|\n",
            "|       6|   2023|       2023-6|         10.2|18.716666666666665|       40.8|\n",
            "|       6|   2023|       2023-6|         9.83|23.433333333333334|       39.4|\n",
            "|       6|   2023|       2023-6|         1.17| 8.566666666666666|        9.3|\n",
            "|       6|   2023|       2023-6|          3.6|13.266666666666667|       18.4|\n",
            "|       6|   2023|       2023-6|         3.08|18.933333333333334|       19.8|\n",
            "|       6|   2023|       2023-6|          1.1| 8.783333333333333|       10.0|\n",
            "|       6|   2023|       2023-6|         0.99|              3.95|        6.5|\n",
            "|       6|   2023|       2023-6|         0.73|              2.85|        5.1|\n",
            "|       6|   2023|       2023-6|         5.43|16.466666666666665|       23.3|\n",
            "|       6|   2023|       2023-6|         1.68| 7.983333333333333|       10.7|\n",
            "|       6|   2023|       2023-6|          2.1|12.266666666666667|       14.2|\n",
            "|       6|   2023|       2023-6|         3.72|18.333333333333332|       20.5|\n",
            "|       6|   2023|       2023-6|         0.98| 4.833333333333333|        7.2|\n",
            "|       6|   2023|       2023-6|         1.91| 9.366666666666667|       11.4|\n",
            "|       6|   2023|       2023-6|         1.42| 5.333333333333333|        8.6|\n",
            "|       6|   2023|       2023-6|         0.75| 8.683333333333334|        8.6|\n",
            "|       6|   2023|       2023-6|         4.33|20.316666666666666|       24.0|\n",
            "|       6|   2023|       2023-6|         1.62|              6.65|       10.0|\n",
            "|       6|   2023|       2023-6|          2.6| 8.333333333333334|       12.1|\n",
            "+--------+-------+-------------+-------------+------------------+-----------+\n",
            "only showing top 20 rows\n",
            "\n"
          ]
        }
      ],
      "source": [
        "small_gold_df.show()"
      ]
    }
  ],
  "metadata": {
    "kernel_info": {
      "name": "synapse_pyspark"
    },
    "kernelspec": {
      "display_name": "Synapse PySpark",
      "language": "Python",
      "name": "synapse_pyspark"
    },
    "language_info": {
      "name": "python"
    },
    "save_output": true,
    "synapse_widget": {
      "state": {},
      "version": "0.1"
    }
  },
  "nbformat": 4,
  "nbformat_minor": 2
}
